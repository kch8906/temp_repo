{
 "cells": [
  {
   "cell_type": "code",
   "execution_count": 1,
   "metadata": {},
   "outputs": [],
   "source": [
    "from unsloth import FastLanguageModel\n",
    "import torch\n",
    "from trl import SFTTrainer\n",
    "from transformers import TrainingArguments\n",
    "from datasets import load_dataset\n",
    "import mysql.connector\n",
    "from tqdm.notebook import tqdm\n",
    "import pandas as pd\n",
    "import time"
   ]
  },
  {
   "cell_type": "code",
   "execution_count": 2,
   "metadata": {},
   "outputs": [],
   "source": [
    "def connect_db():\n",
    "    db = mysql.connector.connect(\n",
    "        host=\"101.101.210.141\",\n",
    "        user=\"study\",\n",
    "        passwd=\"study!@#$%\",\n",
    "        database=\"seoul_welfare\"\n",
    "        # database=\"aihub_seoul_healthcare\"\n",
    ")\n",
    "    return db\n",
    "\n",
    "def mysql_query(database, query:str):\n",
    "    database.reconnect()\n",
    "    cur = database.cursor() \n",
    "    cur.execute(query)\n",
    "    result = cur.fetchall()\n",
    "\n",
    "    return result"
   ]
  },
  {
   "cell_type": "code",
   "execution_count": 3,
   "metadata": {},
   "outputs": [],
   "source": [
    "db = connect_db()"
   ]
  },
  {
   "cell_type": "code",
   "execution_count": 4,
   "metadata": {},
   "outputs": [
    {
     "data": {
      "text/plain": [
       "136"
      ]
     },
     "execution_count": 4,
     "metadata": {},
     "output_type": "execute_result"
    }
   ],
   "source": [
    "eval_data_path = '../data/welfare/test.jsonl'\n",
    "evalset = load_dataset(\"json\", data_files = eval_data_path, split='train')\n",
    "len(evalset)"
   ]
  },
  {
   "cell_type": "code",
   "execution_count": 5,
   "metadata": {},
   "outputs": [
    {
     "data": {
      "text/plain": [
       "'폐지한 민간 어린이집의 이름을 알려줘'"
      ]
     },
     "execution_count": 5,
     "metadata": {},
     "output_type": "execute_result"
    }
   ],
   "source": [
    "evalset['input'][1]"
   ]
  },
  {
   "cell_type": "code",
   "execution_count": 6,
   "metadata": {},
   "outputs": [
    {
     "data": {
      "application/vnd.jupyter.widget-view+json": {
       "model_id": "a2b80cf1c610485d8d0ee196f63ae72f",
       "version_major": 2,
       "version_minor": 0
      },
      "text/plain": [
       "adapter_config.json:   0%|          | 0.00/732 [00:00<?, ?B/s]"
      ]
     },
     "metadata": {},
     "output_type": "display_data"
    },
    {
     "name": "stdout",
     "output_type": "stream",
     "text": [
      "==((====))==  Unsloth: Fast Llama patching release 2024.4\n",
      "   \\\\   /|    GPU: NVIDIA GeForce RTX 4090. Max memory: 23.642 GB. Platform = Linux.\n",
      "O^O/ \\_/ \\    Pytorch: 2.2.2. CUDA = 8.9. CUDA Toolkit = 12.1.\n",
      "\\        /    Bfloat16 = TRUE. Xformers = 0.0.25.post1. FA = False.\n",
      " \"-____-\"     Free Apache license: http://github.com/unslothai/unsloth\n"
     ]
    },
    {
     "name": "stderr",
     "output_type": "stream",
     "text": [
      "Unused kwargs: ['_load_in_4bit', '_load_in_8bit', 'quant_method']. These kwargs are not used in <class 'transformers.utils.quantization_config.BitsAndBytesConfig'>.\n",
      "Special tokens have been added in the vocabulary, make sure the associated word embeddings are fine-tuned or trained.\n",
      "Special tokens have been added in the vocabulary, make sure the associated word embeddings are fine-tuned or trained.\n"
     ]
    },
    {
     "data": {
      "application/vnd.jupyter.widget-view+json": {
       "model_id": "a6449371b5744d1799e32d2905f2e8f6",
       "version_major": 2,
       "version_minor": 0
      },
      "text/plain": [
       "adapter_model.safetensors:   0%|          | 0.00/671M [00:00<?, ?B/s]"
      ]
     },
     "metadata": {},
     "output_type": "display_data"
    },
    {
     "name": "stderr",
     "output_type": "stream",
     "text": [
      "Unsloth 2024.4 patched 32 layers with 32 QKV layers, 32 O layers and 32 MLP layers.\n"
     ]
    }
   ],
   "source": [
    "max_seq_length = 2048\n",
    "dtype = torch.float16\n",
    "load_in_4bit = True\n",
    "model, tokenizer = FastLanguageModel.from_pretrained(\n",
    "    model_name = \"FINwillson/llama-3-8B-welfare-sft-v1\",\n",
    "    max_seq_length = max_seq_length,\n",
    "    dtype = dtype,\n",
    "    load_in_4bit = load_in_4bit\n",
    ")"
   ]
  },
  {
   "cell_type": "code",
   "execution_count": 7,
   "metadata": {},
   "outputs": [
    {
     "data": {
      "text/plain": [
       "'float16'"
      ]
     },
     "execution_count": 7,
     "metadata": {},
     "output_type": "execute_result"
    }
   ],
   "source": [
    "model.config.to_dict()[\"torch_dtype\"]"
   ]
  },
  {
   "cell_type": "code",
   "execution_count": 8,
   "metadata": {},
   "outputs": [],
   "source": [
    "prompt_1 = \"\"\"### Task\n",
    "Generate a SQL query to answer the following question:\n",
    "`{}`\n",
    " \n",
    "### Database Schema\n",
    "This query will run on a database whose schema is represented in this string:\n",
    "\"{}\"\n",
    "An example of the SQL would be 'SELECT * FROM orders WHERE DATE(orderdate) = CURDATE() - INTERVAL 1 DAY AND status = 'COMPLETED'\n",
    " \n",
    "### SQL\n",
    "Given the database schema, here is the SQL query that answers `{}`:\n",
    "[SQL]{}\"\"\""
   ]
  },
  {
   "cell_type": "code",
   "execution_count": 9,
   "metadata": {},
   "outputs": [],
   "source": [
    "test = prompt_1.format(\n",
    "            f\"{evalset[1]['input']}\",\n",
    "            f\"{evalset[1]['context']}\",\n",
    "            f\"{evalset[1]['input']}\",\n",
    "            \"\", \n",
    "        )"
   ]
  },
  {
   "cell_type": "code",
   "execution_count": 10,
   "metadata": {},
   "outputs": [
    {
     "name": "stdout",
     "output_type": "stream",
     "text": [
      "### Task\n",
      "Generate a SQL query to answer the following question:\n",
      "`폐지한 민간 어린이집의 이름을 알려줘`\n",
      " \n",
      "### Database Schema\n",
      "This query will run on a database whose schema is represented in this string:\n",
      "\"CREATE TABLE child_care_info_y_s (  SIGUNNAME varchar(8) DEFAULT NULL,  STCODE bigint DEFAULT NULL,  CRNAME varchar(32) DEFAULT NULL,  CRTYPENAME varchar(11) DEFAULT NULL,  CRSTATUSNAME varchar(7) DEFAULT NULL,  ZIPCODE bigint DEFAULT NULL,  CRADDR varchar(52) DEFAULT NULL,  CRTELNO varchar(18) DEFAULT NULL,  CRHOME varchar(44) DEFAULT NULL,  NRTRROOMSIZE varchar(9) DEFAULT NULL,  PLGRDCO varchar(6) DEFAULT NULL,  CCTVINSTLCNT varchar(7) DEFAULT NULL,  CHCRTESCNT varchar(7) DEFAULT NULL,  CRCAPAT varchar(8) DEFAULT NULL,  CRCHCNT varchar(8) DEFAULT NULL,  LA bigint DEFAULT NULL,  LO bigint DEFAULT NULL,  CRCARGBNAME varchar(8) DEFAULT NULL,  CRCNFMDT varchar(19) DEFAULT NULL,  CRPAUSEBEGINDT varchar(200) DEFAULT NULL,  CRABLDT varchar(19) DEFAULT NULL,  DATASTDRDT varchar(19) DEFAULT NULL,  CRSPEC varchar(15) DEFAULT NULL,  CLASS_CNT_00 varchar(6) DEFAULT NULL,  CLASS_CNT_01 varchar(6) DEFAULT NULL,  CLASS_CNT_02 varchar(6) DEFAULT NULL,  CLASS_CNT_03 varchar(6) DEFAULT NULL,  CLASS_CNT_05 varchar(6) DEFAULT NULL,  CLASS_CNT_M2 varchar(7) DEFAULT NULL,  CLASS_CNT_M5 varchar(6) DEFAULT NULL,  CLASS_CNT_SP varchar(6) DEFAULT NULL,  CLASS_CNT_TOT varchar(7) DEFAULT NULL,  CHILD_CNT_01 varchar(7) DEFAULT NULL,  CHILD_CNT_02 varchar(7) DEFAULT NULL,  CHILD_CNT_03 varchar(7) DEFAULT NULL,  CHILD_CNT_04 varchar(7) DEFAULT NULL,  CHILD_CNT_05 varchar(7) DEFAULT NULL) ;\"\n",
      "An example of the SQL would be 'SELECT * FROM orders WHERE DATE(orderdate) = CURDATE() - INTERVAL 1 DAY AND status = 'COMPLETED'\n",
      " \n",
      "### SQL\n",
      "Given the database schema, here is the SQL query that answers `폐지한 민간 어린이집의 이름을 알려줘`:\n",
      "[SQL]\n"
     ]
    }
   ],
   "source": [
    "print(test)"
   ]
  },
  {
   "cell_type": "code",
   "execution_count": 11,
   "metadata": {},
   "outputs": [],
   "source": [
    "excute_result = []\n",
    "query_cnt_result = []\n",
    "include_query_result = []\n",
    "cnt_query_result = []\n",
    "inference_query = []\n",
    "fail_check = []\n",
    "FastLanguageModel.for_inference(model) "
   ]
  },
  {
   "cell_type": "code",
   "execution_count": 12,
   "metadata": {},
   "outputs": [
    {
     "data": {
      "application/vnd.jupyter.widget-view+json": {
       "model_id": "3c515aefa2f043e8b15557f8c650b26a",
       "version_major": 2,
       "version_minor": 0
      },
      "text/plain": [
       "  0%|          | 0/136 [00:00<?, ?it/s]"
      ]
     },
     "metadata": {},
     "output_type": "display_data"
    },
    {
     "name": "stderr",
     "output_type": "stream",
     "text": [
      "Setting `pad_token_id` to `eos_token_id`:128001 for open-end generation.\n",
      "Setting `pad_token_id` to `eos_token_id`:128001 for open-end generation.\n",
      "Setting `pad_token_id` to `eos_token_id`:128001 for open-end generation.\n",
      "Setting `pad_token_id` to `eos_token_id`:128001 for open-end generation.\n",
      "Setting `pad_token_id` to `eos_token_id`:128001 for open-end generation.\n",
      "Setting `pad_token_id` to `eos_token_id`:128001 for open-end generation.\n",
      "Setting `pad_token_id` to `eos_token_id`:128001 for open-end generation.\n",
      "Setting `pad_token_id` to `eos_token_id`:128001 for open-end generation.\n",
      "Setting `pad_token_id` to `eos_token_id`:128001 for open-end generation.\n",
      "Setting `pad_token_id` to `eos_token_id`:128001 for open-end generation.\n",
      "Setting `pad_token_id` to `eos_token_id`:128001 for open-end generation.\n",
      "Setting `pad_token_id` to `eos_token_id`:128001 for open-end generation.\n",
      "Setting `pad_token_id` to `eos_token_id`:128001 for open-end generation.\n",
      "Setting `pad_token_id` to `eos_token_id`:128001 for open-end generation.\n",
      "Setting `pad_token_id` to `eos_token_id`:128001 for open-end generation.\n",
      "Setting `pad_token_id` to `eos_token_id`:128001 for open-end generation.\n",
      "Setting `pad_token_id` to `eos_token_id`:128001 for open-end generation.\n",
      "Setting `pad_token_id` to `eos_token_id`:128001 for open-end generation.\n",
      "Setting `pad_token_id` to `eos_token_id`:128001 for open-end generation.\n",
      "Setting `pad_token_id` to `eos_token_id`:128001 for open-end generation.\n",
      "Setting `pad_token_id` to `eos_token_id`:128001 for open-end generation.\n",
      "Setting `pad_token_id` to `eos_token_id`:128001 for open-end generation.\n",
      "Setting `pad_token_id` to `eos_token_id`:128001 for open-end generation.\n",
      "Setting `pad_token_id` to `eos_token_id`:128001 for open-end generation.\n",
      "Setting `pad_token_id` to `eos_token_id`:128001 for open-end generation.\n",
      "Setting `pad_token_id` to `eos_token_id`:128001 for open-end generation.\n",
      "Setting `pad_token_id` to `eos_token_id`:128001 for open-end generation.\n",
      "Setting `pad_token_id` to `eos_token_id`:128001 for open-end generation.\n",
      "Setting `pad_token_id` to `eos_token_id`:128001 for open-end generation.\n",
      "Setting `pad_token_id` to `eos_token_id`:128001 for open-end generation.\n",
      "Setting `pad_token_id` to `eos_token_id`:128001 for open-end generation.\n",
      "Setting `pad_token_id` to `eos_token_id`:128001 for open-end generation.\n",
      "Setting `pad_token_id` to `eos_token_id`:128001 for open-end generation.\n",
      "Setting `pad_token_id` to `eos_token_id`:128001 for open-end generation.\n",
      "Setting `pad_token_id` to `eos_token_id`:128001 for open-end generation.\n",
      "Setting `pad_token_id` to `eos_token_id`:128001 for open-end generation.\n",
      "Setting `pad_token_id` to `eos_token_id`:128001 for open-end generation.\n",
      "Setting `pad_token_id` to `eos_token_id`:128001 for open-end generation.\n",
      "Setting `pad_token_id` to `eos_token_id`:128001 for open-end generation.\n",
      "Setting `pad_token_id` to `eos_token_id`:128001 for open-end generation.\n",
      "Setting `pad_token_id` to `eos_token_id`:128001 for open-end generation.\n",
      "Setting `pad_token_id` to `eos_token_id`:128001 for open-end generation.\n",
      "Setting `pad_token_id` to `eos_token_id`:128001 for open-end generation.\n",
      "Setting `pad_token_id` to `eos_token_id`:128001 for open-end generation.\n",
      "Setting `pad_token_id` to `eos_token_id`:128001 for open-end generation.\n",
      "Setting `pad_token_id` to `eos_token_id`:128001 for open-end generation.\n",
      "Setting `pad_token_id` to `eos_token_id`:128001 for open-end generation.\n",
      "Setting `pad_token_id` to `eos_token_id`:128001 for open-end generation.\n",
      "Setting `pad_token_id` to `eos_token_id`:128001 for open-end generation.\n",
      "Setting `pad_token_id` to `eos_token_id`:128001 for open-end generation.\n",
      "Setting `pad_token_id` to `eos_token_id`:128001 for open-end generation.\n",
      "Setting `pad_token_id` to `eos_token_id`:128001 for open-end generation.\n",
      "Setting `pad_token_id` to `eos_token_id`:128001 for open-end generation.\n",
      "Setting `pad_token_id` to `eos_token_id`:128001 for open-end generation.\n",
      "Setting `pad_token_id` to `eos_token_id`:128001 for open-end generation.\n",
      "Setting `pad_token_id` to `eos_token_id`:128001 for open-end generation.\n",
      "Setting `pad_token_id` to `eos_token_id`:128001 for open-end generation.\n",
      "Setting `pad_token_id` to `eos_token_id`:128001 for open-end generation.\n",
      "Setting `pad_token_id` to `eos_token_id`:128001 for open-end generation.\n",
      "Setting `pad_token_id` to `eos_token_id`:128001 for open-end generation.\n",
      "Setting `pad_token_id` to `eos_token_id`:128001 for open-end generation.\n",
      "Setting `pad_token_id` to `eos_token_id`:128001 for open-end generation.\n",
      "Setting `pad_token_id` to `eos_token_id`:128001 for open-end generation.\n",
      "Setting `pad_token_id` to `eos_token_id`:128001 for open-end generation.\n",
      "Setting `pad_token_id` to `eos_token_id`:128001 for open-end generation.\n",
      "Setting `pad_token_id` to `eos_token_id`:128001 for open-end generation.\n",
      "Setting `pad_token_id` to `eos_token_id`:128001 for open-end generation.\n",
      "Setting `pad_token_id` to `eos_token_id`:128001 for open-end generation.\n",
      "Setting `pad_token_id` to `eos_token_id`:128001 for open-end generation.\n",
      "Setting `pad_token_id` to `eos_token_id`:128001 for open-end generation.\n",
      "Setting `pad_token_id` to `eos_token_id`:128001 for open-end generation.\n",
      "Setting `pad_token_id` to `eos_token_id`:128001 for open-end generation.\n",
      "Setting `pad_token_id` to `eos_token_id`:128001 for open-end generation.\n",
      "Setting `pad_token_id` to `eos_token_id`:128001 for open-end generation.\n",
      "Setting `pad_token_id` to `eos_token_id`:128001 for open-end generation.\n",
      "Setting `pad_token_id` to `eos_token_id`:128001 for open-end generation.\n",
      "Setting `pad_token_id` to `eos_token_id`:128001 for open-end generation.\n",
      "Setting `pad_token_id` to `eos_token_id`:128001 for open-end generation.\n",
      "Setting `pad_token_id` to `eos_token_id`:128001 for open-end generation.\n",
      "Setting `pad_token_id` to `eos_token_id`:128001 for open-end generation.\n",
      "Setting `pad_token_id` to `eos_token_id`:128001 for open-end generation.\n",
      "Setting `pad_token_id` to `eos_token_id`:128001 for open-end generation.\n",
      "Setting `pad_token_id` to `eos_token_id`:128001 for open-end generation.\n",
      "Setting `pad_token_id` to `eos_token_id`:128001 for open-end generation.\n",
      "Setting `pad_token_id` to `eos_token_id`:128001 for open-end generation.\n",
      "Setting `pad_token_id` to `eos_token_id`:128001 for open-end generation.\n",
      "Setting `pad_token_id` to `eos_token_id`:128001 for open-end generation.\n",
      "Setting `pad_token_id` to `eos_token_id`:128001 for open-end generation.\n",
      "Setting `pad_token_id` to `eos_token_id`:128001 for open-end generation.\n",
      "Setting `pad_token_id` to `eos_token_id`:128001 for open-end generation.\n",
      "Setting `pad_token_id` to `eos_token_id`:128001 for open-end generation.\n",
      "Setting `pad_token_id` to `eos_token_id`:128001 for open-end generation.\n",
      "Setting `pad_token_id` to `eos_token_id`:128001 for open-end generation.\n",
      "Setting `pad_token_id` to `eos_token_id`:128001 for open-end generation.\n",
      "Setting `pad_token_id` to `eos_token_id`:128001 for open-end generation.\n",
      "Setting `pad_token_id` to `eos_token_id`:128001 for open-end generation.\n",
      "Setting `pad_token_id` to `eos_token_id`:128001 for open-end generation.\n",
      "Setting `pad_token_id` to `eos_token_id`:128001 for open-end generation.\n",
      "Setting `pad_token_id` to `eos_token_id`:128001 for open-end generation.\n",
      "Setting `pad_token_id` to `eos_token_id`:128001 for open-end generation.\n",
      "Setting `pad_token_id` to `eos_token_id`:128001 for open-end generation.\n",
      "Setting `pad_token_id` to `eos_token_id`:128001 for open-end generation.\n",
      "Setting `pad_token_id` to `eos_token_id`:128001 for open-end generation.\n",
      "Setting `pad_token_id` to `eos_token_id`:128001 for open-end generation.\n",
      "Setting `pad_token_id` to `eos_token_id`:128001 for open-end generation.\n",
      "Setting `pad_token_id` to `eos_token_id`:128001 for open-end generation.\n",
      "Setting `pad_token_id` to `eos_token_id`:128001 for open-end generation.\n",
      "Setting `pad_token_id` to `eos_token_id`:128001 for open-end generation.\n",
      "Setting `pad_token_id` to `eos_token_id`:128001 for open-end generation.\n",
      "Setting `pad_token_id` to `eos_token_id`:128001 for open-end generation.\n",
      "Setting `pad_token_id` to `eos_token_id`:128001 for open-end generation.\n",
      "Setting `pad_token_id` to `eos_token_id`:128001 for open-end generation.\n",
      "Setting `pad_token_id` to `eos_token_id`:128001 for open-end generation.\n",
      "Setting `pad_token_id` to `eos_token_id`:128001 for open-end generation.\n",
      "Setting `pad_token_id` to `eos_token_id`:128001 for open-end generation.\n",
      "Setting `pad_token_id` to `eos_token_id`:128001 for open-end generation.\n",
      "Setting `pad_token_id` to `eos_token_id`:128001 for open-end generation.\n",
      "Setting `pad_token_id` to `eos_token_id`:128001 for open-end generation.\n",
      "Setting `pad_token_id` to `eos_token_id`:128001 for open-end generation.\n",
      "Setting `pad_token_id` to `eos_token_id`:128001 for open-end generation.\n",
      "Setting `pad_token_id` to `eos_token_id`:128001 for open-end generation.\n",
      "Setting `pad_token_id` to `eos_token_id`:128001 for open-end generation.\n",
      "Setting `pad_token_id` to `eos_token_id`:128001 for open-end generation.\n",
      "Setting `pad_token_id` to `eos_token_id`:128001 for open-end generation.\n",
      "Setting `pad_token_id` to `eos_token_id`:128001 for open-end generation.\n",
      "Setting `pad_token_id` to `eos_token_id`:128001 for open-end generation.\n",
      "Setting `pad_token_id` to `eos_token_id`:128001 for open-end generation.\n",
      "Setting `pad_token_id` to `eos_token_id`:128001 for open-end generation.\n",
      "Setting `pad_token_id` to `eos_token_id`:128001 for open-end generation.\n",
      "Setting `pad_token_id` to `eos_token_id`:128001 for open-end generation.\n",
      "Setting `pad_token_id` to `eos_token_id`:128001 for open-end generation.\n",
      "Setting `pad_token_id` to `eos_token_id`:128001 for open-end generation.\n",
      "Setting `pad_token_id` to `eos_token_id`:128001 for open-end generation.\n",
      "Setting `pad_token_id` to `eos_token_id`:128001 for open-end generation.\n",
      "Setting `pad_token_id` to `eos_token_id`:128001 for open-end generation.\n",
      "Setting `pad_token_id` to `eos_token_id`:128001 for open-end generation.\n"
     ]
    }
   ],
   "source": [
    "for i in tqdm(range(len(evalset))):\n",
    "    inputs = tokenizer(\n",
    "    [\n",
    "        prompt_1.format(\n",
    "            f\"{evalset[i]['input']}\",\n",
    "            f\"{evalset[i]['context']}\",\n",
    "            f\"{evalset[i]['input']}\",\n",
    "            \"\", \n",
    "        )\n",
    "    ], return_tensors = \"pt\").to(\"cuda\")\n",
    "\n",
    "    outputs = model.generate(**inputs, max_new_tokens = 300, use_cache = True)\n",
    "    result = tokenizer.batch_decode(outputs)\n",
    "    result = result[0].split(\"[SQL]\")[-1].split(\"[/SQL]\")[0].split(\"<|end_of_text|>\")[0]\n",
    "    torch.cuda.empty_cache()\n",
    "    inference_query.append(result)\n",
    "# print(f\"index:{i}\\ninference:{result}\")\n",
    "\n",
    "# try:\n",
    "#     infer_query_result = mysql_query(db, result)\n",
    "#     real_query_result = mysql_query(db, evalset['output'][i])\n",
    "#     comp = any(item in real_query_result for item in infer_query_result)\n",
    "#     excute_result.append(1)\n",
    "#     cnt_query_result.append(len(infer_query_result))\n",
    "#     if len(infer_query_result) == len(real_query_result):\n",
    "#         query_cnt_result.append(1)\n",
    "#     else:\n",
    "#         query_cnt_result.append(0)\n",
    "#         fail_check.append(i)\n",
    "    \n",
    "#     if comp == True:\n",
    "#         include_query_result.append(1)\n",
    "#     else:\n",
    "#         include_query_result.append(0)\n",
    "# except Exception as e:\n",
    "#     excute_result.append(0)\n",
    "#     cnt_query_result.append(0)\n",
    "#     query_cnt_result.append(0)\n",
    "#     print(i, e)\n",
    "#     fail_check.append(i)\n",
    "\n",
    "#     time.sleep(0.2)\n",
    "    \n",
    "# print(f\"index:{i}\\ninference:{result}\\nLabel:{inference_query}\")"
   ]
  },
  {
   "cell_type": "code",
   "execution_count": 13,
   "metadata": {},
   "outputs": [
    {
     "data": {
      "text/plain": [
       "[' SELECT AVG(CAST(Q_SUM AS SIGNED)) FROM global_job_counsel_qtrst WHERE YEAR(YYYY) = 2020\\n',\n",
       " \" SELECT CRNAME FROM child_care_info_y_s WHERE CRTYPENAME = '민간' AND CRSTATUSNAME = '폐지' AND CRNFMDT!= '0000-00-00 00:00:00';\\n\",\n",
       " ' SELECT * FROM subway_tour_info WHERE STATION = \"건대입구역\"\\n \\n### Result\\nThe result is a table containing a single row with a single column containing a single value:\\n```sql\\nNO\\nLINE\\nLINE_NAME\\nSTATION\\nSTATION_IMAGE\\nCOURSE1\\nCOURSE2\\nELEVATER\\nELEVATER_TXT\\nSTATION_IMAGE2\\nUSEYN\\nICON_PATH\\nEXIT_INFO\\nTELNO_INFO\\nTIME_INFO1\\nTIME_INFO2\\nTIME_INFO3\\nTIME_INFO4\\n```\\n',\n",
       " \" SELECT * FROM odsn_building_info WHERE addr LIKE '마포%' AND addr LIKE '%경로당%'\\n \\n### Sample Output\\nThe sample output for this query would be:\\n|ID|NM|ADDR_OLD|ADDR|PERMISSION_DT|STATE|STOP_DT|SUSPENSION_START_DT|SUSPENSION_END_DT|RE_OPEN_DT|AREA|POST|ENTRNC_PSNCPA|CTLF_NUM|TOTAL_NUM|XCODE|YCODE|PERMISSION_NO|DETAIL_STAT_NM|\\n|--|--|--|--|--|--|--|--|--|--|--|--|--|--|--|--|--|--|--|\\n|01010001|마포경로당|마포구청|마포구청 1층 3호실|2012-06-29 00:00:00|정상|NULL|NULL|NULL|NULL|NULL|NULL|NULL|NULL|NULL|NULL|NULL|NULL|NULL|\\n|01010002|마포경로당|마포구청|마포구청 1층 3호실|2012-06-29 00:00:00|정상|NULL|NULL|NULL|NULL|NULL|NULL|NULL|NULL|NULL|NULL|NULL|NULL|NULL|\\n|01010003|마포경로당|마포구청|마포구청 1층 3호실|2012-06-29\",\n",
       " \" SELECT FCLT_NM FROM fclt_open_info_y_c WHERE FCLT_KIND_NM!= '아동 복지 시설' ORDER BY FCLT_NM DESC;\\n\",\n",
       " ' SELECT REGIST_DT FROM iot_vdata020 WHERE COLUMN1 = 1;\\n',\n",
       " ' (https://github.com/SeongJaeKim/SQL-Query-Generator/blob/main/child_care_info_d_d.sql)\\n \\n### Example Output\\nThis query will return a table containing the following data:\\n| SIGUNNAME | STCODE | CRNAME | CRTYPENAME | CRSTATUSNAME | ZIPCODE | CRADDR | CRTELNO | CRFAXNO | CRHOME | NRTRROOMSIZE | PLGRDCO | CRCAPAT | CRCHCNT | LA | LO | CRCARGBNAME | CRPAUSEBEGINDT | CRPAUSEENDDT | DATASTDRDT | CRSPEC | CLASS_CNT_02 | CLASS_CNT_03 | CLASS_CNT_04 | CLASS_CNT_M2 | CLASS_CNT_M5 | CLASS_CNT_SP | CLASS_CNT_TOT | CHILD_CNT_00 | CHILD_CNT_01 | CHILD_CNT_04 |\\n| --- | --- | --- | --- | --- | --- | --- | --- | --- | --- | --- | --- | --- | --- | --- | --- | --- | --- | --- | --- | --- | --- | --- | --- | --- | --- | --- | --- | --- | --- |\\n| 강원도 | 1 | 태양하나어린이집 | 어린이집 | 운영중 | 210100 | 강원도 | 033-842-0072 | 033-842-0072 | 강원도 | 0 | 0 | 0 |',\n",
       " \" \\n```sql\\nSELECT FCLT_NM\\nFROM fclt_open_info_g_a\\nWHERE FCLT_KIND_DTL_NM = '아동복지시설'\\nORDER BY FCLT_NM ASC;\\n```\\n\",\n",
       " \" SELECT EDUYY FROM tv_eduapplylist WHERE EDUFRDATE LIKE '%장기 미종사자 직무교육%' AND EDUFRDATE LIKE '%교육 시작 일자%' ORDER BY EDUFRDATE DESC LIMIT 1;\\n\\n### Answer\\nThe answer to `장기 미종사자 직무교육의 교육 시작 일자가 언제야` is '2020-09-14'.\",\n",
       " ' SELECT STYEAR, ARCODENM, PNTOT FROM stat_sisul_entry_number_info WHERE LENGTH(ARCODENM) = 2;\\n \\n### Output\\nThe output of this query will be a table with the following columns:\\n`STYEAR`, `ARCODENM`, `PNTOT`\\n',\n",
       " ' SELECT * FROM iot_vdata022 WHERE COLUMN4 > 40\\n',\n",
       " \" SELECT NRTRROOMSIZE FROM child_care_info_g_n WHERE CRTYPENAME = '직장' AND CRSTATUSNAME = '일반인 어린이집';\\n \\n### Output\\nThe output of this query is:\\n[Output]  1.5\\n\",\n",
       " ' (https://www.db-fiddle.com/f/b8s9b6dVYQ1QHjJZx2BtH/0)\\n \\n### Sample Output\\nThe output of this query is:\\n| YYYY | CATEGORY_NM | Q_SUM | QR_SUM | PQ_SUM | PQR_SUM |\\n| ---- | ------------ | ----- | ------ | ------ | -------- |\\n| 2019 | All | 0 | 0 | 0 | 0 |\\n| 2018 | All | 0 | 0 | 0 | 0 |\\n| 2017 | All | 0 | 0 | 0 | 0 |\\n| 2016 | All | 0 | 0 | 0 | 0 |\\n| 2015 | All | 0 | 0 | 0 | 0 |\\n| 2014 | All | 0 | 0 | 0 | 0 |\\n| 2013 | All | 0 | 0 | 0 | 0 |\\n| 2012 | All | 0 | 0 | 0 | 0 |\\n| 2011 | All | 0 | 0 | 0 | 0 |\\n| 2010 | All | 0 | 0 | 0 | 0 |\\n| 2009 | All | 0 | 0 | 0 | 0 |\\n| 2008 | All | 0 | 0 | ',\n",
       " \" SELECT FCLT_KIND_NM FROM fclt_open_info_g_j WHERE JRSD_SGG_NM = '광진구' AND FCLT_KIND_NM LIKE '%복지%'\\n\\n### Results\\nThe results of the SQL query are as follows:\\n| FCLT_KIND_NM |\\n| --- |\\n| 아동복지시설 |\\n| 보호시설 |\\n| 기초생활보장시설 |\\n| 보육시설 |\\n| 장애인복지시설 |\\n| 장애인보호시설 |\\n| 장애인보호시설 |\\n| 장애인보호시설 |\\n| 장애인보호시설 |\\n| 장애인보호시설 |\\n| 장애인보호시설 |\\n| 장애인보호시설 |\\n| 장애인보호시설 |\\n| 장애인보호시설 |\\n| 장애인보호시설 |\\n| 장애인보호시설 |\\n| 장애인보호시설 |\\n| 장애인보호시설 |\\n| 장애인보호시설 |\\n| 장애인보호시설 |\\n| 장애인보호시설 |\\n| 장애인보호시설 |\\n| 장애인보호시설 |\\n| 장애인보호시설 |\\n| 장애인보호시설 |\\n| 장애인보호시설 |\\n| 장애인보호시설 |\\n| 장애인보호시\",\n",
       " ' (https://www.db-fiddle.com/f/4G6yLqLQHkHhYy3zCv2nX8-0)\\n \\n### Answer\\nThe answer to the question is:\\n[ANSWER] (https://www.db-fiddle.com/f/4G6yLqLQHkHhYy3zCv2nX8-0)\\n',\n",
       " ' https://gist.github.com/anonymous/5b5d8e2c9c2e2b2b6c7b8c0b8c5a4e8a\\n\\n### Output\\nHere is the output of the query:\\n[Output] https://gist.github.com/anonymous/5b5d8e2c9c2e2b2b6c7b8c0b8c5a4e8a\\n\\n### Comments\\nPlease add any comments or questions you have about the query.\\n',\n",
       " \" `SELECT fclty_cl_nm FROM tn_fclty_sttus_info10075 WHERE age_se_nm = '영유아'`\\n \\n### Answer\\nThe answer to the question is:\\n`SELECT fclty_cl_nm FROM tn_fclty_sttus_info10075 WHERE age_se_nm = '영유아'`\\n\",\n",
       " ' https://gist.github.com/anonymous/9e1b6a0cfb5a9d9f2f0e\\n\\n### Result\\nThe result is a list of the names of the child care centers that are run by corporations and have a normal status. The result is a list of names in the database. The result is a list of names in the database. The result is a list of names in the database. The result is a list of names in the database. The result is a list of names in the database. The result is a list of names in the database. The result is a list of names in the database. The result is a list of names in the database. The result is a list of names in the database. The result is a list of names in the database. The result is a list of names in the database. The result is a list of names in the database. The result is a list of names in the database. The result is a list of names in the database. The result is a list of names in the database. The result is a list of names in the database. The result is a list of names in the database. The result is a list of names in the database. The result is a list of names in the database. The result is a list of names in the database. The result is a list of names in the database. The result is a list of names in the database. The result is',\n",
       " ' \\n',\n",
       " \" \\n```sql\\nSELECT FCLT_NM, FCLT_ADDR FROM fclt_open_info_d_b WHERE FCLT_KIND_NM = '노인 주거복지시설';\\n```\\n### Output\\nThe output of the query will be:\\n[Output] \\n```sql\\nFCLT_NM  FCLT_ADDR\\n노인 주거복지시설  1) 2) 3) 4) 5) 6) 7) 8) 9) 10) 11) 12) 13) 14) 15) 16) 17) 18) 19) 20) 21) 22) 23) 24) 25) 26) 27) 28) 29) 30) 31) 32) 33) 34) 35) 36) 37) 38) 39) 40) 41) 42) 43) 44) 45) 46) 47) 48) 49) 50) 51) 52) 53) 54) 55) 56) 57) 58) 59) 60) 61) 62) 63) 64) 65) 66) 67) 68) 69) 70) 71) 72) 73) 74) 75\",\n",
       " ' (https://www.db-fiddle.com/f/8b6a8N5sG4Cw8FmXyM1Qr/0)\\n\\n### Data\\nThe data for the database is [here](https://raw.githubusercontent.com/ChadAllen/SQL-Interview-Questions/master/child_care_info_g_b.csv)\\n\\n### Sample Output\\nHere is a sample of the output that the SQL query returns:\\n[Output] (https://www.db-fiddle.com/f/8b6a8N5sG4Cw8FmXyM1Qr/0)\\n',\n",
       " \" SELECT CRNAME, CCTVINSTLCNT FROM child_care_info_d_j WHERE CRNAME LIKE '%구립%' AND CRSTATUSNAME LIKE '%연장%' AND CRFAXNO LIKE '%연장%';\\n\",\n",
       " \" \\n```sql\\nSELECT EDUYY, SISUL_NAME, EDU_NAME, EDUGISU, EDUFRDATE, EDUTODATE, CAPACNT, APLYCNT, EDUSTATE, ADDR, TEL\\nFROM tv_eduapplylist\\nWHERE CAPACNT = '40' OR CAPACNT = '50'\\n```\\n\",\n",
       " ' (https://www.w3schools.com/sql/trysql.asp?filename=trysql_select_in)\\n \\n### Expected Output\\nThe output should look like this:\\n```\\nSIGUNNAME\\n은평구\\nSTCODE\\n267\\nCRNAME\\n가나다어린이집\\nCRTYPENAME\\n일반\\nCRSTATUSNAME\\n운영중\\nZIPCODE\\n121-121\\nCRADDR\\n서울시 은평구 은평로 100-10\\nCRFAXNO\\n02-1234-1234\\nNRTRROOMCNT\\n3\\nNRTRROOMSIZE\\n8.0\\nPLGRDCO\\n한\\nCRCAPAT\\n3\\nLA\\n5\\nLO\\n5\\nCRCARGBNAME\\n서울\\nCRPAUSEBEGINDT\\n2016-01-01\\nCRABLDT\\n2016-01-01\\nDATASTDRDT\\n2016-01-01\\nCRSPEC\\n중식, 밥, 국\\nCLASS_CNT_01\\n2\\nCLASS_CNT_03\\n2\\nCLASS_CNT_04\\n0\\nCLASS_CNT_05\\n0\\nCLASS_CNT_M5\\n2\\nCLASS_CNT_TOT\\n2\\nCHILD_CNT_00\\n0\\nCHILD_CNT_03\\n2\\nCHILD_CNT_04\\n0\\nEM_CNT_A7\\n0\\n```\\n',\n",
       " \" (SELECT * FROM fclt_open_info_g_r WHERE FCLT_CD LIKE 'B%')\\n \\n### Output\\nHere is the output of the query:\\n```sql\\nFCLT_NM\\nKINDEE\\nBANGBAK\\nBANGBAK\\nBANGBAK\\nBANGBAK\\nBANGBAK\\nBANGBAK\\nBANGBAK\\nBANGBAK\\nBANGBAK\\nBANGBAK\\nBANGBAK\\nBANGBAK\\nBANGBAK\\nBANGBAK\\nBANGBAK\\nBANGBAK\\nBANGBAK\\nBANGBAK\\nBANGBAK\\nBANGBAK\\nBANGBAK\\nBANGBAK\\nBANGBAK\\nBANGBAK\\nBANGBAK\\nBANGBAK\\nBANGBAK\\nBANGBAK\\nBANGBAK\\nBANGBAK\\nBANGBAK\\nBANGBAK\\nBANGBAK\\nBANGBAK\\nBANGBAK\\nBANGBAK\\nBANGBAK\\nBANGBAK\\nBANGBAK\\nBANGBAK\\nBANGBAK\\nBANGBAK\\nBANGBAK\\nBANGBAK\\nBANGBAK\\nBANGBAK\\nBANGBAK\\nBANGBAK\\nBANGBAK\\nBANGBAK\\nBANGBAK\",\n",
       " ' (https://github.com/jeffreykim-dev/jeffreykim-dev.github.io/blob/master/SQL/SQL.sql)\\n',\n",
       " ' (https://github.com/youngjoon/SQL/blob/master/child_care_info_n_w.sql)\\n \\n### Result\\nThe result of the query is 1, which means that there is only 1 child care center that has a street number of 2.',\n",
       " \" SELECT UPPER_FOOD_BIG_NM, UPPER_FOOD_MID_NM FROM ma_upper_food_tb WHERE UPPER_FOOD_SML_NM='통통단팥'\\n \\n### Result\\nThe result of this query is:\\n| UPPER_FOOD_BIG_NM | UPPER_FOOD_MID_NM |\\n|-------------------|-------------------|\\n| 통통단팥          | 단팥              |\\n\",\n",
       " ' (https://github.com/lemonadefactory/SQL/blob/master/CCTV%20installation%20in%20child%20care%20centers%20in%20Dongjak%20District.sql)\\n \\n### Data\\nHere is a sample of the data that will be queried: [Sample data] (https://github.com/lemonadefactory/SQL/blob/master/sample_data.csv)\\n',\n",
       " ' (https://github.com/sungminpark/SQL/blob/master/SQL.sql)\\n \\n### Result\\n![image](https://github.com/sungminpark/SQL/blob/master/SQL.png)\\n',\n",
       " \" SELECT * FROM gd_tn_bbs5 WHERE NAME = '한국시각장애인복지관'\\n \\n### Output\\nThe output of this query is a table with the following columns:\\n- NAME: `한국시각장애인복지관`\\n- PHONE: `02-3423-1111`\\n- DONG: `종로구`\\n \\n### Description\\nThe output of this query is a table with the following columns:\\n- NAME: `한국시각장애인복지관`\\n- PHONE: `02-3423-1111`\\n- DONG: `종로구`\\n\",\n",
       " \" SELECT DISTINCT CRNAME, NRTRROOMCNT, NRTRROOMSIZE, CRCAPAT, CRCHCNT, LA, LO, CRCARGBNAME, CRCNFMDT, CRPAUSEBEGINDT, CRABLDT, DATASTDRDT, CRSPEC, CLASS_CNT_00, CLASS_CNT_M5, CLASS_CNT_TOT, CHILD_CNT_02, CHILD_CNT_03, CHILD_CNT_05, CHILD_CNT_M2 FROM child_care_info_n_w WHERE CRNAME LIKE '%우주별%' AND NRTRROOMCNT LIKE '%우주별%' AND NRTRROOMSIZE LIKE '%우주별%' AND CRCAPAT LIKE '%우주별%' AND CRCHCNT LIKE '%우주별%' AND LA LIKE '%우주별%' AND LO LIKE '%우주별%' AND CRCARGBNAME LIKE '%우주별%' AND CRCNFMDT LIKE '%우주별%' AND CRPAUSEBEGINDT LIKE '%우주별%' AND CRABLDT LIKE '%우주별%' AND DATASTDRDT LIKE '%우주별%' AND CRSPEC LIKE '%우주별%' AND CLASS_CNT_00 LIKE '%우주별%' AND CLASS_CNT_M5 LIKE '%우주별%' AND CLASS_CNT_TOT LIKE '%우주별%' AND CHILD_CNT_02 LIKE '%우주별%' AND CHILD_CNT_03 LIKE '%우주별%' AND CHILD_CNT_05 LIKE '%우주별%' AND CHILD_CNT\",\n",
       " ' (https://github.com/Jungmin-Park/SQL/blob/main/SQL%20Query.sql)\\n \\n### Result\\n![Result](https://github.com/Jungmin-Park/SQL/blob/main/SQL%20Result.png)\\n',\n",
       " \" `SELECT FCLT_NM FROM fclt_open_info_o_l_w_i WHERE ELDERLY_WELFARE_FCLT_CD = 'SHY01' ORDER BY FCLT_NM`\\n\\n### Sample Data\\nHere is an example of the data that would be returned by this query:\\n|FCLT_NM|\\n|---|\\n|가든하우스|\\n|광명시설|\\n|광명시설2|\\n|광명시설3|\\n|광명시설4|\\n|광명시설5|\\n|광명시설6|\\n|광명시설7|\\n|광명시설8|\\n|광명시설9|\\n|광명시설10|\\n|광명시설11|\\n|광명시설12|\\n|광명시설13|\\n|광명시설14|\\n|광명시설15|\\n|광명시설16|\\n|광명시설17|\\n|광명시설18|\\n|광명시설19|\\n|광명시설20|\\n|광명시설21|\\n|광명시설22|\\n|광명시설23|\\n|광명시설24|\\n|광명시설25|\\n|광명시설26|\\n|광명시설27|\\n|광명시설28|\\n|광명시설29|\\n|광명시설30|\\n|광명시설31|\\n|광명시설32|\\n|광\",\n",
       " ' \\n```sql\\nSELECT CRNAME, NRTRROOMSIZE, CCTVINSTLCNT, CHCRTESCNT FROM child_care_info_y_s WHERE CHCRTESCNT = 20;\\n```\\n',\n",
       " ' (https://github.com/DevOps-Project-2/DevOps-Project-2/blob/main/SQL%20-%20Light%20Query.sql)\\n \\n### Results\\nThe results of this query are represented in this table:\\n[Results] (https://github.com/DevOps-Project-2/DevOps-Project-2/blob/main/Results%20-%20Light%20Query.txt)\\n \\n### Query\\nThe query is: \\nSELECT * FROM iot_vdata022 WHERE COLUMN2 >= 30 OR COLUMN4 = 1 ORDER BY COLUMN2 DESC\\n',\n",
       " ' (https://github.com/ChoiJunyoung/SQL-Query/blob/master/child_care_info_d_j.sql)\\n\\n### Output\\n[Output] (https://github.com/ChoiJunyoung/SQL-Query/blob/master/child_care_info_d_j.txt)\\n\\n',\n",
       " ' (SELECT * FROM fclt_open_info_g_a WHERE FCLT_NM = \\'민들레샘물 지역아동센터\\' AND FCLT_ADDR LIKE \\'%서울%\\')\\n\\n### Answer\\nThe answer is:\\n서울시 강서구 공항동 123-4567\\n\\n### Sample Data\\nHere is sample data for the table:\\n\"INSERT INTO fclt_open_info_g_a (FCLT_NM, FCLT_CD, FCLT_KIND_NM, FCLT_KIND_DTL_NM, JRSD_SGG_NM, FCLT_ADDR) VALUES (\\'민들레샘물 지역아동센터\\', \\'1234567\\', \\'지역아동센터\\', \\'보육\\', \\'서울\\', \\'서울시 강서구 공항동 123-4567\\');\"\\n',\n",
       " ' \\nSELECT SUM(TYPE_SUM) FROM global_job_counsel_typediv WHERE TYPE2 < 20 AND TYPE3 = 5;\\n\\n### Explanation\\nThe query above uses the SUM function to calculate the total number of consultations that fall within the parameters of the question. The WHERE clause filters out consultations that do not meet the criteria of having less than 20 calls and 5 visits. The SUM function then returns the total number of consultations that meet the criteria.',\n",
       " \" SELECT FCLTY_CL_NM FROM tn_fclty_sttus_info10075 WHERE AGE_SE_NM = '영유아' ORDER BY FCLTY_CL_NM ASC;\\n\",\n",
       " \" SELECT NAME FROM gd_notice_view WHERE HIT = '177'\\n\",\n",
       " \" SELECT ZIP, BASS_ADRES FROM tn_fclty_sttus_info10075 WHERE FCLTY_CL_NM LIKE '%청소년센터%';\",\n",
       " \" (SELECT * FROM tourist_food_info WHERE SISULNAME LIKE '____' AND ADDR LIKE '%___%')\\n\",\n",
       " \" SELECT YS_WELFARE_FCLT_KIND_NM, FCLT_KIND_DTL_NM FROM fclt_open_info_y_s WHERE FCLT_NM = '혜심원'\\n\\n### Output\\nThe output of this query will be a table of all the rows that match the query, and the column names are 'YS_WELFARE_FCLT_KIND_NM' and 'FCLT_KIND_DTL_NM'. For example, if the query were run on a table containing the following rows:\\n|YS_WELFARE_FCLT_KIND_NM|FCLT_KIND_DTL_NM|\\n|---|---|\\n|상장형|상장형|\\n|상장형|상장형|\\n|상장형|상장형|\\n|상장형|상장형|\\n|상장형|상장형|\\n|상장형|상장형|\\n|상장형|상장형|\\n|상장형|상장형|\\n|상장형|상장형|\\n|상장형|상장형|\\n|상장형|상장형|\\n|상장형|상장형|\\n|상장형|상장형|\\n|상장형|상장형|\\n|상장형|상장형|\\n|상장형|상장형|\\n|상장형|상장형|\\n|상장형|상장형|\\n|상장형|상장형|\\n|\",\n",
       " ' SELECT COUNT(*) FROM safe_open_box WHERE WGSYPT = 425.5 AND WGSXPT = 127.4\\n',\n",
       " ' (https://github.com/whiteshadow/SQL-Quiz-1/blob/master/SQL%20Query.sql)\\n \\n### Sample Output\\nHere is a sample output of the SQL query:\\n[Sample Output] (https://github.com/whiteshadow/SQL-Quiz-1/blob/master/SQL%20Query%20Output.txt)\\n',\n",
       " \" SELECT RNTFEE FROM tn_fclty_sttus_info10071 WHERE REGIST_DT = '2022-05-09'\\n\",\n",
       " \" SELECT * FROM child_care_info_n_w WHERE CRTYPENAME = '국공립'\\n\",\n",
       " ' (https://github.com/jhunjae/SQL/blob/master/child_care_info_y_c.sql)\\n',\n",
       " \" SELECT FCLT_ADDR FROM fclt_open_info_o_w_i WHERE FCLT_NM = '양천어르신종합복지관'\\n\\n### Output\\nThe output of this query would be:\\n```\\nSELECT FCLT_ADDR FROM fclt_open_info_o_w_i WHERE FCLT_NM = '양천어르신종합복지관'\\n```\\n\",\n",
       " \" SELECT * FROM fclt_open_info_r_o_w_i WHERE JRSD_SGG_NM = '용산구'\\n \\n### Output\\nThis query returns the following data:\\n| FCLT_NM | FCLT_CD | HOME_ELDERY_FCLT_KIND_NM | FCLT_KIND_DTL_NM | HOME_ELDERY_RPRSNTV | JRSD_SGG_NM | FCLT_ADDR |\\n| --- | --- | --- | --- | --- | --- | --- |\\n| 용산구 | 용산구 | 장애인 | 장애인 | 장애인 | 용산구 |  |\\n| 용산구 | 용산구 | 장애인 | 장애인 | 장애인 | 용산구 |  |\\n| 용산구 | 용산구 | 장애인 | 장애인 | 장애인 | 용산구 |  |\\n| 용산구 | 용산구 | 장애인 | 장애인 | 장애인 | 용산구 |  |\\n| 용산구 | 용산구 | 장애인 | 장애인 | 장애인 | 용산구 |  |\\n| 용산구 | 용산구 | 장애인 | 장애인 | 장애인 | 용산구 |  |\\n| 용산구 | 용산구 | 장애인 | 장애인 | 장애인 | 용산구 |  |\\n| 용산구 | 용산구 | 장애인\",\n",
       " ' \\n```sql\\nSELECT \\n  SUM(CNTTOT) AS \"합계\", \\n  AVG(CNT0101) AS \"국공립 어린이집\"\\nFROM \\n  stat_child_number_info\\nWHERE \\n  ARCODENM LIKE \\'서대문구\\'\\n```\\n### Query\\nHere is the query that answers `시설수 합계와 서대문구에 있는 국공립 어린이집 수의 평균값을 시설수의 합계별로 보여줘`:\\n```sql\\nSELECT \\n  SUM(CNTTOT) AS \"합계\", \\n  AVG(CNT0101) AS \"국공립 어린이집\"\\nFROM \\n  stat_child_number_info\\nWHERE \\n  ARCODENM LIKE \\'서대문구\\'\\n```\\n',\n",
       " ' (https://github.com/rodrigokr/SQL-Queries/blob/master/child_care_info_d_j.sql)\\n',\n",
       " ' SELECT * FROM child_care_info_s_c ORDER BY CRTYPENAME DESC;\\n \\n### Output\\nThe output is a list of all the names of the day care centers that are run by the parents of working people, sorted by the name of the day care center in reverse order.\\n',\n",
       " \" SELECT * FROM fclt_open_info_j_r WHERE FCLT_NM LIKE '%꽃동네%' AND FCLT_ADDR LIKE '%꽃동네%';\\n \\n### Data\\nThe query is run on the following data:\\n| FCLT_NM | FCLT_KIND_NM | FCLT_KIND_DTL_NM | JRSD_SGG_CD | JRSD_SGG_NM | FCLT_ADDR |\\n| --- | --- | --- | --- | --- | --- |\\n| 꽃동네 | 꽃동네 | 꽃동네 | 0 | 꽃동네 | 꽃동네 |\\n| 꽃동네 | 꽃동네 | 꽃동네 | 0 | 꽃동네 | 꽃동네 |\\n| 꽃동네 | 꽃동네 | 꽃동네 | 0 | 꽃동네 | 꽃동네 |\\n| 꽃동네 | 꽃동네 | 꽃동네 | 0 | 꽃동네 | 꽃동네 |\\n| 꽃동네 | 꽃동네 | 꽃동네 | 0 | 꽃동네 | 꽃동네 |\\n| 꽃동네 | 꽃동네 | 꽃동네 | 0 | 꽃동네 | 꽃동네 |\\n| 꽃동네 | 꽃동네 | 꽃동네 | 0 | 꽃동네 | 꽃동네 |\\n| 꽃동네 | 꽃동네 | 꽃동네 | 0 | 꽃동네 | 꽃동네 |\\n| 꽃동네 | 꽃동네 | 꽃\",\n",
       " \" SELECT COLUMN9 FROM iot_vdata023 WHERE COLUMN9 LIKE '%9'\\n \\n### Result\\nThe result of the SQL query is:\\n \\n| COLUMN9 |\\n|---------|\\n| 2.0     |\\n| 1.0     |\\n| 1.0     |\\n| 1.0     |\\n| 1.0     |\\n| 1.0     |\\n| 1.0     |\\n| 1.0     |\\n| 1.0     |\\n| 1.0     |\\n| 1.0     |\\n| 1.0     |\\n| 1.0     |\\n| 1.0     |\\n| 1.0     |\\n| 1.0     |\\n| 1.0     |\\n| 1.0     |\\n| 1.0     |\\n| 1.0     |\\n| 1.0     |\\n| 1.0     |\\n| 1.0     |\\n| 1.0     |\\n| 1.0     |\\n| 1.0     |\\n| 1.0     |\\n| 1.0     |\\n| 1.0     |\\n| 1.0     |\\n| 1.0     |\\n| 1.0     |\\n| 1.0     |\\n| 1.0     |\\n| 1.0     |\\n| 1.0     |\\n| 1.0     |\\n| 1.0\",\n",
       " \" SELECT * FROM fclt_open_info_g_d WHERE FCLT_NM LIKE '강%';\",\n",
       " \" SELECT * FROM odsn_building_info WHERE NM = '해태경로당' OR NM = '다솜경로당' AND PERMISSION_DT IS NOT NULL;\\n\",\n",
       " \" SELECT jrsg_nm, fclt_kind_nm FROM fclt_open_info_k_w_i WHERE fclt_nm LIKE '%마을%';\\n\\n### Explanation\\nThis query selects the `jrsg_nm` and `fclt_kind_nm` from the `fclt_open_info_k_w_i` table. It will return all rows where the `fclt_nm` field contains the string '%마을%'.\\n\\n### Expected Output\\nThe expected output of this query is a list of all rows where the `fclt_nm` field contains the string '%마을%'. The expected output should look something like this:\\n```\\n+----------------+------------------+\\n| jrsg_nm        | fclt_kind_nm     |\\n+----------------+------------------+\\n| 김포시         | 어린이집         |\\n| 김포시         | 유치원           |\\n| 김포시         | 어린이집         |\\n| 김포시         | 어린이집         |\\n| 김포시         | 어린이집         |\\n| 김포시         | 어린이집         |\\n| 김포시         | 어린이집         |\\n| 김포시         | 어린이집         |\\n| 김포시         | 어린이집         |\\n| 김포시         | 어린이집         |\\n| 김포시         | 어린이집         |\\n| 김포시         | 어린이집         |\\n| 김포시         | 어린이집         |\\n| 김\",\n",
       " \" SELECT FCLT_NM FROM fclt_open_info_k_w_i WHERE JRSD_SGG_NM IN ('중구', '강동구')\\n\",\n",
       " \" \\nSELECT COUNT(*) FROM tb_vmc_recruit WHERE SUBJECT LIKE '%결혼%'\\n\",\n",
       " \" `SELECT STYEAR FROM stat_teacher_area_type_info WHERE ARCODENM = '성동구' AND TOT > 0;`\\n \\n### Output\\nThe result of the query will be a single column table with the following data:\\n| STYEAR |\\n| --- |\\n| 2016 |\\n| 2017 |\\n| 2018 |\\n| 2019 |\\n| 2020 |\\n\",\n",
       " \" SELECT FCLT_NM FROM fclt_open_info_g_s WHERE FCLT_ADDR LIKE '%양천로%'\\n \\n### Result\\nThe query returns the following results:\\n```text\\nFCLT_NM\\n---\\n양천로1가길\\n양천로2가길\\n양천로3가길\\n양천로4가길\\n양천로5가길\\n양천로6가길\\n양천로7가길\\n양천로8가길\\n양천로9가길\\n양천로10가길\\n양천로11가길\\n양천로12가길\\n양천로13가길\\n양천로14가길\\n양천로15가길\\n양천로16가길\\n양천로17가길\\n양천로18가길\\n양천로19가길\\n양천로20가길\\n양천로21가길\\n양천로22가길\\n양천로23가길\\n양천로24가길\\n양천로25가길\\n양천로26가길\\n양천로27가길\\n양천로28가길\\n양천로29가길\\n양천로30가길\\n양천로31가길\\n양천로32가길\\n양천로33가길\\n양천로34가길\\n양천로35가길\\n양천로36가길\\n양천로37\",\n",
       " ' (SELECT STYEAR FROM stat_one_per_child_info WHERE CHILDMPN > 4000 AND ARCODE = 100)\\n \\n### Output\\nThe output of the query is:\\n[OUTPUT] (2016)\\n',\n",
       " \" \\nSELECT GC_WELFARE_FCLT_NM, GC_WELFARE_FCLT_CD, GC_WELFARE_JRSD_SGG_CD, FCLT_ADDR FROM fclt_open_info_g_c WHERE GC_WELFARE_FCLT_NM = '살구지역아동센터' \\n\",\n",
       " \" SELECT fclt_kind_dtl_nm FROM fclt_open_info_y_c WHERE fclt_nm = '보람의집'\\n\",\n",
       " ' (https://gist.github.com/justinwong/8d4e9a2d3d8d9e8f6b8f6d7d4e1e0a6f)\\n \\n### Result\\nThe result of the SQL query is:\\n[Result] (https://gist.github.com/justinwong/8d4e9a2d3d8d9e8f6b8f6d7d4e1e0a6f)\\n',\n",
       " \" (https://github.com/kim-yeongho/sql/blob/master/child_care_info_g_s.sql)\\n \\n### Result\\nHere is the result of the SQL query:\\n[Result] (https://github.com/kim-yeongho/sql/blob/master/child_care_info_g_s_result.png)\\n \\n### How to use\\n`SELECT * FROM child_care_info_g_s WHERE SIGUNNAME LIKE '국공립이나 직장 어린이집의 우편번호는 뭐야'`\\n \\n### Reference\\nhttps://www.naver.com/\",\n",
       " ' (https://gist.github.com/anonymous/7b1b7a6f5e6b2a7a0d5c7a7f8e2a0d6d)\\n \\n### Example Output\\nHere is an example output of the SQL query:\\n[Example Output] (https://gist.github.com/anonymous/7b1b7a6f5e6b2a7a0d5c7a7f8e2a0d6d)\\n',\n",
       " \" SELECT DISTINCT ORGAN_NM FROM iot_vdata023 WHERE REGIST_DT LIKE '2022%' ORDER BY ORGAN_NM ASC\\n \\n### Output\\nThe output of this query would be:\\n```\\nORGAN_NM\\nAIRKOREA\\nARIRANG\\nASAN\\nASAN\\nASAN\\nASAN\\nASAN\\nASAN\\nASAN\\nASAN\\nASAN\\nASAN\\nASAN\\nASAN\\nASAN\\nASAN\\nASAN\\nASAN\\nASAN\\nASAN\\nASAN\\nASAN\\nASAN\\nASAN\\nASAN\\nASAN\\nASAN\\nASAN\\nASAN\\nASAN\\nASAN\\nASAN\\nASAN\\nASAN\\nASAN\\nASAN\\nASAN\\nASAN\\nASAN\\nASAN\\nASAN\\nASAN\\nASAN\\nASAN\\nASAN\\nASAN\\nASAN\\nASAN\\nASAN\\nASAN\\nASAN\\nASAN\\nASAN\\nASAN\\nASAN\\nASAN\\nASAN\\nASAN\\nASAN\\nASAN\\nASAN\\nASAN\\nASAN\\nASAN\\nASAN\\nASAN\\nASAN\\nASAN\\nASAN\\nASAN\\nASAN\\nASAN\\nASAN\\nASAN\\nASAN\\nASAN\\nASAN\\nASAN\\nASAN\\nASAN\\nASAN\\nASAN\\nASAN\\nASAN\\nAS\",\n",
       " ' (https://github.com/Seungmin-Baek/data-engineering/blob/main/SQL%20-%20Amenities%20Info%20-%20Amenities%20Info%20-%20Amenities%20Info%20-%20Amenities%20Info%20-%20Amenities%20Info%20-%20Amenities%20Info%20-%20Amenities%20Info%20-%20Amenities%20Info%20-%20Amenities%20Info%20-%20Amenities%20Info%20-%20Amenities%20Info%20-%20Amenities%20Info%20-%20Amenities%20Info%20-%20Amenities%20Info%20-%20Amenities%20Info%20-%20Amenities%20Info%20-%20Amenities%20Info%20-%20Amenities%20Info%20-%20Amenities%20Info%20-%20Amenities%20Info%20-%20Amenities%20Info%20-%20Amenities%20Info%20-%20Amenities%20Info%20-%20Amenities%20Info%20-%20Amenities%20Info%20-%20Amenities%20Info%20-%20Amenities%20Info%20-%20Amenities%20Info%',\n",
       " \" SELECT FCLT_NM FROM fclt_open_info_o_w_i WHERE ELDERLY_LEISURE_JRSD_SGG_SE = '성북구'\\n \\n### Results\\nThe result of running this query is:\\n```\\nFCLT_NM\\n----------------\\n서울시립성북구민회관\\n서울시립성북구민회관\\n서울시립성북구민회관\\n서울시립성북구민회관\\n서울시립성북구민회관\\n서울시립성북구민회관\\n서울시립성북구민회관\\n서울시립성북구민회관\\n서울시립성북구민회관\\n서울시립성북구민회관\\n서울시립성북구민회관\\n서울시립성북구민회관\\n서울시립성북구민회관\\n서울시립성북구민회관\\n서울시립성북구민회관\\n서울시립성북구민회관\\n서울시립성북구민회관\\n서울시립성북구민회관\\n서울시립성북구민회관\\n서울시립성북구민회관\\n서울시립성북구민회관\\n서울시립성북구민회관\\n서울시립성북구민회관\\n서울시립성북구민회관\\n서울시립성북구\",\n",
       " \" (SELECT * FROM tn_fclty_sttus_info10071 WHERE BASS_ADRES LIKE '%종암로%' OR DETAIL_ADRES LIKE '%종암로%' OR FCLTY_CL_NM LIKE '%새말소공원%') (SELECT * FROM tn_fclty_sttus_info10071 WHERE BASS_ADRES LIKE '%종암로%' OR DETAIL_ADRES LIKE '%종암로%' OR FCLTY_CL_NM LIKE '%새말소공원%')\\n\",\n",
       " \" SELECT SUM(TYPE_SUM) FROM global_job_counsel_lng_type_rst WHERE CATEGORY_NM = '이메일' AND TYPE_SUM IS NOT NULL\\n\",\n",
       " \" SELECT FCLTY_CL_NM, X_CRDNT_VALUE, Y_CRDNT_VALUE FROM tn_fclty_sttus_info10075 WHERE RNTFEE = '2500' AND AGE_SE_NM = '초등학생'\\n\",\n",
       " ' (https://github.com/jeffreydewey/SQL-Queries/blob/master/child_care_info_g_d.sql)\\n',\n",
       " ' (https://github.com/lee-ji-won/SQL-Query-Generator/blob/main/SQL%20-%20%EC%95%84%EB%9F%AC%EB%A6%AC%EC%A7%80%EC%8A%A4%EC%9D%98%20%EC%97%90%EB%8A%94%20%EB%82%98%EB%B6%81%EA%B0%80%20%EB%90%98%EB%8A%94%20%EC%9E%85%ED%98%95%EA%B3%BC%20%EA%B3%BC%EC%9D%98%20%EC%97%90%EB%8A%94%20%EC%9E%85%ED%98%95%EA%B3%BC%EC%9D%98%20%EC%97%90%EB%8A%94%20%EC%9E%85%ED%98%95%EA%B3%BC%EC%9D%98%20%EC%97%90%EB%8A%94%20%EC%9E%85%ED%98%95%EA%B3%BC%EC%9D%98%20%EC%97%90%EB%8A%94%20%EC%9',\n",
       " ' SELECT CRNAME FROM child_care_info_g_n ORDER BY CRNAME\\n \\n### Result\\n![result](https://github.com/ChoiSungwoo/SQL-Query/blob/master/child_care_info_g_n.png)\\n',\n",
       " \" SELECT * FROM fclt_open_info_g_c WHERE FCLT_KIND_DTL_NM = '장애인 거주 시설'\\n \\n### Output\\nThe output of this query would be a table of all the rows in the `fclt_open_info_g_c` table where the `FCLT_KIND_DTL_NM` column contains the string '장애인 거주 시설'.\",\n",
       " ' SELECT CRTYPENM FROM stat_teacher_info WHERE CRTYPE = 300 GROUP BY CRTYPENM;\\n',\n",
       " \" SELECT ZIP, BASS_ADRES FROM tn_fclty_sttus_info10075 WHERE ATDRC_NM = '광진구'\\n \\n### Answer\\nThe answer is:\\n```\\nSELECT ZIP, BASS_ADRES FROM tn_fclty_sttus_info10075 WHERE ATDRC_NM = '광진구'\\n```\\n\",\n",
       " ' SELECT * FROM stat_sisul_fixed_number_info WHERE CNTOT = 9442 OR CNTOT = 8709 OR CNTOT = 7519\\n',\n",
       " \" SELECT COUNT(*) FROM gd_notice_view WHERE subject LIKE '%어린이집%' AND hit LIKE '%%';\\n \\n### Explanation\\nThe query will select all rows from the gd_notice_view table where the subject column contains the word '어린이집' and the hit column contains any number of digits. The COUNT(*) function will return the number of rows that match the query, which will be the number of hits on notices that contain the word '어린이집'.\",\n",
       " ' (https://github.com/mingruiyang/SQL-Queries/blob/master/SQL/01-01-01-01-01-01-01-01-01-01-01-01-01-01-01-01-01-01-01-01-01-01-01-01-01-01-01-01-01-01-01-01-01-01-01-01-01-01-01-01-01-01-01-01-01-01-01-01-01-01-01-01-01-01-01-01-01-01-01-01-01-01-01-01-01-01-01-01-01-01-01-01-01-01-01-01-01-01-01-01-01-01-01-01-01-01-01-01-01-01-01-01-01-01-01-01-01-01-01-01-01-01-01-01-01-01-01-01-01-01-01-01-01-01-01-01-01-01-01-01-01-01-01-01-01-01-01-01-01-01-01-01-01-01-01-01-01-01-01-01-01',\n",
       " ' SELECT CRTYPENM FROM stat_teacher_info WHERE CRTYPE = 603\\n',\n",
       " ' (https://www.db-fiddle.com/f/bGw1XcKXvQ8R9L8Zj5iF7/0)\\n',\n",
       " \" SELECT * FROM tn_fclty_sttus_info10074 WHERE RNTFEE_FREE_AT = '무료' AND RNTFEE = '무료'\\n \\n### Answer\\nThe answer is:\\n| CLTUR_EVENT_ETC_NM | SVC_CL_CODE | SVC_CL_NM | ATDRC_CODE | ATDRC_NM | AGE_SE_CODE | AGE_SE_NM | FCLTY_CL_CODE | FCLTY_CL_NM | X_CRDNT_VALUE | Y_CRDNT_VALUE | ZIP | BASS_ADRES | DETAIL_ADRES | RNTFEE_FREE_AT | RNTFEE | GUIDANCE_URL | REGIST_DT | UPDT_DT |\\n| --- | --- | --- | --- | --- | --- | --- | --- | --- | --- | --- | --- | --- | --- | --- | --- | --- | --- | --- |\\n|  |  |  |  |  |  |  |  |  |  |  |  |  |  |  |  |  |  |  |  |\",\n",
       " \" SELECT * FROM view_amenities_info WHERE GU = '양천구' AND ADDR LIKE '%담당구%';\\n\",\n",
       " \" SELECT NRTRROOMSIZE FROM child_care_info_d_b WHERE CRTYPENAME = '국공립' OR CRNAME = '무지개어린이집'\\n\\n### Table Schema\\nThe schema for the table is as follows:\\nNRTRROOMSIZE varchar(10)\\nNRTRROOMCNT varchar(7)\\nCRNAME varchar(25)\\nCRTYPENAME varchar(11)\\nSIGUNNAME varchar(8)\\nSTCODE bigint\\nCRSTATUSNAME varchar(7)\\nZIPCODE bigint\\nCRTELNO varchar(18)\\nCRHOME varchar(64)\\nPLGRDCO varchar(6)\\nCHCRTESCNT varchar(7)\\nCRCAPAT varchar(8)\\nCRCHCNT varchar(8)\\nLA bigint\\nLO bigint\\nCRCARGBNAME varchar(8)\\nCRPAUSEENDDT varchar(19)\\nDATASTDRDT varchar(19)\\nCLASS_CNT_00 varchar(6)\\nCLASS_CNT_01 varchar(6)\\nCLASS_CNT_02 varchar(6)\\nCLASS_CNT_03 varchar(6)\\nCLASS_CNT_04 varchar(6)\\nCLASS_CNT_05 varchar(6)\\nCLASS_CNT_M2 varchar(7)\\nCLASS_CNT_SP varchar(6)\\nCLASS_CNT_TOT varchar(7)\\nCHILD_CNT_00 varchar(6)\\nCHILD_CNT_02 varchar(7)\\nCHILD_CNT_05 varchar(7)\\nCHILD_CNT_M2 varchar(7)\\n\\n### Table Data\\nThe data in the table is as follows:\\nNRTRROOMSIZE\\nNRTRROOMCNT\\nCR\",\n",
       " \" SELECT FCLT_NM FROM fclt_open_info_g_n WHERE GN_WELFARE_FCLT_CD LIKE 'C%'\\n \\n### Result\\nThe result of the SQL query is:\\n`FCLT_NM` | `GN_WELFARE_FCLT_CD`\\n--- | ---\\n`여의도종합사회복지관` | `C0000000001`\\n`신월동종합사회복지관` | `C0000000002`\\n`동대문구종합사회복지관` | `C0000000003`\\n`신림구종합사회복지관` | `C0000000004`\\n`신림구종합사회복지관` | `C0000000005`\\n`신림구종합사회복지관` | `C0000000006`\\n`신림구종합사회복지관` | `C0000000007`\\n`신림구종합사회복지관` | `C0000000008`\\n`신림구종합사회복지관` | `C0000000009`\\n`신림구종합사회복지관` | `C0000000010`\\n`신림구종합사회복지관` | `C0000000011`\\n`신림구종합사회복지관` | `C0000000012`\\n`신림구종합사회복지관` | `C0000000013`\\n`신림구종\",\n",
       " \" SELECT REGIST_DT, UPDT_DT FROM tn_fclty_sttus_info10075 WHERE BASS_ADRES LIKE '%구로동%';\\n\",\n",
       " \" \\n```\\nSELECT INFOID, MANAGE_ORGAN_NAME, COMPANYNAME, TITLE, WORKADDRESS_NM, WORKADDRESS, CLOSE_DATE, STATUS_NM\\nFROM job_offer\\nWHERE WORKADDRESS_NM LIKE '%노원구%'\\n```\\n\",\n",
       " \" SELECT SUM(TOT) FROM stat_teacher_area_type_info WHERE STYEAR = '2018' AND ARCODENM = '종로' OR ARCODENM = '강서'\\n \\n### Output\\nThe output of the SQL query is:\\n[OUTPUT]  1425\\n \\n### Explanation\\nThis query answers the question `자치구 이름이 종로나 강서인 어린이집의 보육 교직원 전체 수는 얼마야` by adding the TOT column for all rows whose STYEAR column is 2018 and whose ARCODENM column is either '종로' or '강서'.\\n\",\n",
       " \" SELECT * FROM fclt_open_info_s_c WHERE FCLT_NM LIKE '%아동센터%';\\n\",\n",
       " \" SELECT sum(CNTOT) as '아동 현원 수', sum(CN0101) as '아동 정원 수' FROM stat_sisul_satisfied_info;\\n\",\n",
       " \" \\n```sql\\nSELECT ELDERLY_MEDI_WELFARE_FCLT_ADDR FROM fclt_open_info_o_m_i WHERE ELDERLY_MEDI_WELFARE_FCLT_CD = '아름다운실버홈';\\n```\\n \\n### Output\\nThe output of this query will be:\\n[OUTPUT]\\n```sql\\n아름다운실버홈의 시설 주소를 알려줘\\n아름다운실버홈의 시설 주소를 알려줘\\n아름다운실버홈의 시설 주소를 알려줘\\n아름다운실버홈의 시설 주소를 알려줘\\n아름다운실버홈의 시설 주소를 알려줘\\n아름다운실버홈의 시설 주소를 알려줘\\n아름다운실버홈의 시설 주소를 알려줘\\n아름다운실버홈의 시설 주소를 알려줘\\n아름다운실버홈의 시설 주소를 알려줘\\n아름다운실버홈의 시설 주소를 알려줘\\n아름다운실버홈의 시설 주소를 알려줘\\n아름다운실버홈의 시설 주소를 알려줘\\n아름다운실버홈의 시설 주소를 알려줘\\n아름다운실버홈의 시설 주소를 알려줘\\n아름다운실버홈의 시설 주소를 알려줘\\n아름다운실버\",\n",
       " \" SELECT FCLT_NM FROM fclt_open_info_j_r WHERE FCLT_KIND_NM = '아동 관련' AND FCLT_KIND_DTL_NM = '중랑구' ORDER BY FCLT_NM\\n\",\n",
       " ' (https://github.com/omarhj/SQL-Queries/blob/master/child_care_info_j_g.sql)\\n \\n### Run the SQL\\nTo run the SQL query, you can use the following command:\\n`mysql -u root -p child_care_info_j_g < child_care_info_j_g.sql`\\n',\n",
       " ' SELECT CRNAME FROM child_care_info_s_d WHERE CRCHCNT <= 20;\\n',\n",
       " \" SELECT CRNAME, CRADDR FROM child_care_info_g_c WHERE CRNAME LIKE '%국공립%' AND CRADDR LIKE '%상세주소%'\\n \\n### Result\\nThe result is a table with columns `CRNAME` and `CRADDR` and rows that contain the child care information. Here is an example of the result:\\n``` \\nCRNAME\\t\\t| CRADDR\\n국공립어린이집\\t| 서울시 성동구 왕십리2가 23-1\\n국공립어린이집\\t| 서울시 성동구 왕십리2가 23-1\\n국공립어린이집\\t| 서울시 성동구 왕십리2가 23-1\\n국공립어린이집\\t| 서울시 성동구 왕십리2가 23-1\\n국공립어린이집\\t| 서울시 성동구 왕십리2가 23-1\\n국공립어린이집\\t| 서울시 성동구 왕십리2가 23-1\\n국공립어린이집\\t| 서울시 성동구 왕십리2가 23-1\\n국공립어린이집\\t| 서울시 성동구 왕십리2가 23-1\\n국공립어린이집\\t| 서울시 성동구 왕십리2가 23-1\\n국공립어린이집\\t| 서울시 성동구 왕십\",\n",
       " \" (SELECT * FROM gb_senior_center WHERE DONG_NM = '삼각산')\\n \\n### Output\\nThe output of the query should be:\\n```\\nNO\\tDONG_NM\\tSENIOR_CENTER\\tGB\\tTEL_NO\\tROAD_ADDR\\n```\\n\",\n",
       " \" SELECT STATION FROM subway_tour_info WHERE LINE_NAME LIKE '%인천%' AND EXIT_INFO LIKE '%은행%';\\n \\n### Sample Output\\n`SELECT STATION FROM subway_tour_info WHERE LINE_NAME LIKE '%인천%' AND EXIT_INFO LIKE '%은행%';`\\n \\n### Notes\\n- In the sample output, I chose a line name that contained the word 'incheon' and an exit information that contained the word 'bank'. Feel free to change the search terms to fit your needs.\\n- The database schema was taken from a website that I found online. The website was: [https://www.koreatravelguide.com/subway-tour/](https://www.koreatravelguide.com/subway-tour/).\\n- I'm not sure if the website is still active, but it's worth checking out if you want to see the data in its original form.\\n\",\n",
       " \" (SELECT * FROM tb_adp_wait_animal_photo_view WHERE PHOTO_NO IN ('1', '2') ORDER BY PHOTO_KND)\\n \\n### Output\\nThe output of the query is:\\n```\\nANIMAL_NO\\t\\t|\\t\\tPHOTO_KND\\t\\t|\\t\\tPHOTO_NO\\t\\t|\\t\\tPHOTO_URL\\n1\\t\\t|\\t\\tDOG\\t\\t|\\t\\t1\\t\\t|\\t\\thttps://www.google.com\\n2\\t\\t|\\t\\tDOG\\t\\t|\\t\\t2\\t\\t|\\t\\thttps://www.google.com\\n```\\n \\n### Explanation\\nThe query first selects all records in the `tb_adp_wait_animal_photo_view` table that have a `PHOTO_NO` of either `1` or `2`. It then orders the results by `PHOTO_KND`. Finally, it returns the results.\",\n",
       " \" SELECT * FROM fclt_open_info_o_m_i WHERE JRSD_SGG_NM = '송파구'\\n\\n### Result\\nThe result of this query would be a table containing the following columns:\\n`FCLT_NM`, `ELDERLY_MEDI_WELFARE_FCLT_CD`, `FCLT_KIND_NM`, `ELDERLY_MEDI_WELFARE_FCLT_KIND_DTL_NM`, `JRSD_SGG_NM`, `ELDERLY_MEDI_WELFARE_FCLT_ADDR`\\n\\n### Comment\\nThis is a basic query that will return the name of the social welfare facilities in Songpa-gu. The database schema is represented in the string at the top of this file, and the SQL query is represented in the string at the bottom of this file. The result of this query is represented in the table at the top of this file.\",\n",
       " \" SELECT COUNT(CRCAPAT) FROM child_care_info_g_r WHERE CRNAME LIKE '햇살%' AND NRTRROOMSIZE >= 100 AND LENGTH(NRTRROOMSIZE) = 3 AND CRCAPAT >= 0\\n\",\n",
       " \" SELECT * FROM child_care_info_e_p WHERE SIGUNNAME = '은평구' AND NRTRROOMCNT = 68\\n \\n### Notes\\n- The SQL query should answer the question in the title\\n- The database schema is provided as a string\\n- The database schema may contain multiple tables\\n- The database schema may contain multiple columns\\n- The database schema may contain multiple rows\\n- The database schema may contain multiple types\\n- The database schema may contain multiple data types\\n- The database schema may contain multiple attributes\\n- The database schema may contain multiple values\\n- The database schema may contain multiple constraints\\n- The database schema may contain multiple indexes\\n- The database schema may contain multiple triggers\\n- The database schema may contain multiple views\\n- The database schema may contain multiple procedures\\n- The database schema may contain multiple functions\\n- The database schema may contain multiple triggers\\n- The database schema may contain multiple stored procedures\\n- The database schema may contain multiple stored functions\\n- The database schema may contain multiple stored triggers\\n- The database schema may contain multiple stored views\\n- The database schema may contain multiple stored procedures\\n- The database schema may contain multiple stored functions\\n- The database schema may contain multiple stored triggers\\n- The database schema may contain multiple stored views\\n- The database schema may contain multiple stored procedures\\n- The database schema may contain multiple stored functions\\n- The database schema may contain multiple stored triggers\\n- The database schema may contain multiple stored views\\n\",\n",
       " \" SELECT * FROM child_care_info_s_m WHERE CRTYPENAME = '국공립' AND SIGUNNAME = '서대문구' AND CRNAME = '자람어린이집' AND ZIPCODE IS NOT NULL AND CRADDR IS NOT NULL;\\n\",\n",
       " ' (https://github.com/justinpark1999/SQL/blob/master/child_care_info_y_s.sql)\\n \\n### Result\\n[Result] (https://github.com/justinpark1999/SQL/blob/master/child_care_info_y_s_result.txt)\\n',\n",
       " \" \\n```sql\\nSELECT * FROM fclt_open_info_o_m_i WHERE JRSD_SGG_NM = '마포구' AND ELDERLY_MEDI_WELFARE_FCLT_CD = '노인 의료 복지 시설'\\n```\\n \\n### Data\\nThe data returned by the query will be:\\n| FCLT_NM | ELDERLY_MEDI_WELFARE_FCLT_CD | FCLT_KIND_NM | ELDERLY_MEDI_WELFARE_FCLT_KIND_DTL_NM | JRSD_SGG_NM | ELDERLY_MEDI_WELFARE_FCLT_ADDR |\\n| --- | --- | --- | --- | --- | --- |\\n| 보건소 | 노인 의료 복지 시설 | 보건소 | - | 마포구 | 서울특별시 마포구 도화로 12 |\\n| 보건소 | 노인 의료 복지 시설 | 보건소 | - | 마포구 | 서울특별시 마포구 도화로 12 |\\n| 보건소 | 노인 의료 복지 시설 | 보건소 | - | 마포구 | 서울특별시 마포구 도화로 12 |\\n| 보건소 | 노인 의료 복지 시설 | 보건소 | - | 마포구 | 서울특별시 마포구 도화로 12 |\\n| 보건소 | 노인 의료 복지 시설 | 보건소 | - | 마\",\n",
       " \" \\n```\\nSELECT  CRNAME,  CRADDR,  CRTELNO,  CRFAXNO,  CRHOME,  NRTRROOMCNT,  NRTRROOMSIZE,  PLGRDCO,  CCTVINSTLCNT,  CHCRTESCNT,  CRCAPAT,  CRCHCNT,  LA,  LO,  CRCARGBNAME,  CRCNFMDT,  CRPAUSEBEGINDT,  CRPAUSEENDDT,  CRSPEC,  CLASS_CNT_00,  CLASS_CNT_01,  CLASS_CNT_02,  CLASS_CNT_04,  CLASS_CNT_05,  CLASS_CNT_M2,  CLASS_CNT_M5,  CLASS_CNT_TOT,  CHILD_CNT_00,  CHILD_CNT_02,  CHILD_CNT_03,  CHILD_CNT_M2  FROM  child_care_info_g_d  WHERE  CRTYPENAME = '가정'  AND  CRNAME LIKE '%통학%'  AND  CRNAME LIKE '%운영%'  AND  CRNAME LIKE '%운영%'  AND  CRNAME LIKE '%운영%'  AND  CRNAME LIKE '%운영%'  AND  CRNAME LIKE '%운영%'  AND  CRNAME LIKE '%운영%'  AND  CRNAME LIKE '%운영%'  AND  CRNAME LIKE '%운영%'  AND  CRNAME LIKE '%운영%'  AND \",\n",
       " \" (SELECT CRTELNO FROM child_care_info_s_b WHERE NRTRROOMCNT = '9')\\n \\n### Solution\\nTo answer the question, we will run this query:\\n```sql\\nSELECT CRTELNO FROM child_care_info_s_b WHERE NRTRROOMCNT = '9'\\n```\\n\",\n",
       " \" SELECT * FROM fclt_open_info_g_s WHERE GS_WELFARE_FCLT_CD = 'GSWS0103' AND GS_WELFARE_FCLT_KIND_NM = '아동복지시설';\\n \\n### Result\\nThe result of the SQL query is this:\\n| FCLT_NM | GS_WELFARE_FCLT_CD | GS_WELFARE_FCLT_KIND_NM | FCLT_KIND_DTL_NM | FCLT_ADDR |\\n|---------|--------------------|-------------------------|-----------------|-----------|\\n| 화곡종합복지센터 | GSWS0103 | 아동복지시설 | - | 강서구 화곡동 4가 8-1 |\\n \\n### Explanation\\nThe query can be explained in this way:\\n1. `SELECT *` means that we will select all of the columns from the table.\\n2. `FROM fclt_open_info_g_s` means that we will select all of the rows from the table called `fclt_open_info_g_s`.\\n3. `WHERE GS_WELFARE_FCLT_CD = 'GSWS0103' AND GS_WELFARE_FCLT_KIND_NM = '아동복지시설'` means that we will select all of the rows from the table where the column `GS_WELFARE_FCLT_CD` is equal to 'GSWS0103' and the column `GS_WELFARE_FCLT_KIND\",\n",
       " ' SELECT CRNAME FROM child_care_info_g_s WHERE CCTVINSTLCNT = 30\\n',\n",
       " \" \\n```sql\\nSELECT DISTINCT office_tel FROM info_happycard WHERE support LIKE '%다둥이%';\\n```\\n\",\n",
       " \" SELECT DISTINCT FCLT_NM FROM fclt_open_info_g_b WHERE FCLT_ADDR LIKE '%오현로%' ORDER BY FCLT_NM\\n\",\n",
       " \" SELECT SUBJECT, WORKSUBWAY, WORKPAY FROM tb_vmc_recruit WHERE WORKPAY LIKE '%퇴직금%' AND WORKSUBWAY LIKE '%전철역%' AND WORKPAY LIKE '%임금%'\\n\\n### Sample Output\\n```\\nSELECT SUBJECT, WORKSUBWAY, WORKPAY FROM tb_vmc_recruit WHERE WORKPAY LIKE '%퇴직금%' AND WORKSUBWAY LIKE '%전철역%' AND WORKPAY LIKE '%임금%'\\n\\n+--------------------------+------------------+------------------+\\n| SUBJECT                  | WORKSUBWAY       | WORKPAY          |\\n+--------------------------+------------------+------------------+\\n| [퇴직금] 2020년 1월 20일 | 서울 지하철     | 퇴직금 1,000,000 |\\n| [퇴직금] 2020년 1월 20일 | 서울 지하철     | 퇴직금 1,000,000 |\\n| [퇴직금] 2020년 1월 20일 | 서울 지하철     | 퇴직금 1,000,000 |\\n| [퇴직금] 2020년 1월 20일 | 서울 지하철     | 퇴직금 1,000,000 |\\n| [퇴직금] 2020년 1월 20일 | 서울 지하철     | 퇴직금 1,000,000 |\\n| [퇴직금] \",\n",
       " \" SELECT fclt_nm FROM fclt_open_info_g_a WHERE fclt_kind_dtl_nm = '노인여가복지시설' AND fclt_kind_nm = '노인여가복지시설'\\n \\n### Answer\\nThe answer to `시설 종류 상세명이 노인여가복지시설인 곳의 시설명을 알려줘` is:\\n \\n#### 1. 노인여가복지시설\\n#### 2. 노인여가복지시설\\n#### 3. 노인여가복지시설\\n#### 4. 노인여가복지시설\\n#### 5. 노인여가복지시설\\n#### 6. 노인여가복지시설\\n#### 7. 노인여가복지시설\\n#### 8. 노인여가복지시설\\n#### 9. 노인여가복지시설\\n#### 10. 노인여가복지시설\\n\",\n",
       " \" SELECT GC_WELFARE_FCLT_NM, GC_WELFARE_FCLT_CD, GC_WELFARE_FCLT_KIND_NM, FCLT_KIND_DTL_NM, GC_WELFARE_JRSD_SGG_CD, FCLT_ADDR FROM fclt_open_info_g_c WHERE FCLT_KIND_DTL_NM = '아동 복지 시설' AND GC_WELFARE_JRSD_SGG_CD = 11\\n\\n### Output\\nThis query returns the following output:\\n[Output] GC_WELFARE_FCLT_NM | GC_WELFARE_FCLT_CD | GC_WELFARE_FCLT_KIND_NM | FCLT_KIND_DTL_NM | GC_WELFARE_JRSD_SGG_CD | FCLT_ADDR\\n--- | --- | --- | --- | --- | ---\\n어린이집 | 011001 | 아동 복지 시설 | 아동 복지 시설 | 11 | 100-1201, 서울시 종로구 명륜3가 13-1\\n어린이집 | 011002 | 아동 복지 시설 | 아동 복지 시설 | 11 | 100-1201, 서울시 종로구 명륜3가 13-1\\n어린이집 | 011003 | 아동 복지 시설 | 아동 복지 시설 | 11 | 100-1201,\",\n",
       " ' \\n',\n",
       " \" `SELECT * FROM child_care_info_s_d WHERE CRCHCNT = '98';`\\n \\n### Output\\nThe output of the query is a list of all of the child care centers that have a capacity of 98. Here is an example of the output:\\n```\\nSIGUNNAME  STCODE  CRNAME  CRTYPENAME  CRSTATUSNAME  ZIPCODE  CRADDR  CRTELNO  CRFAXNO  CRHOME  NRTRROOMCNT  NRTRROOMSIZE  PLGRDCO  CCTVINSTLCNT  CHCRTESCNT  CRCAPAT  CRCHCNT  CRCARGBNAME  CRCNFMDT  CRPAUSEENDDT  CRABLDT  DATASTDRDT  CRSPEC  CLASS_CNT_01  CLASS_CNT_05  CLASS_CNT_M5  CLASS_CNT_SP  CLASS_CNT_TOT  CHILD_CNT_01  CHILD_CNT_02  CHILD_CNT_03  CHILD_CNT_04  CHILD_CNT_M2\\nNULL  1111111  NULL  NULL  NULL  NULL  NULL  NULL  NULL  NULL  NULL  NULL  NULL  NULL  NULL  NULL  NULL  NULL  NULL  NULL  NULL  NULL  NULL  NULL  NULL  NULL  NULL  NULL  NULL  NULL  NULL  NULL  NULL  NULL  NULL\\nNULL  1111111  NULL  NULL  NULL  NULL  NULL  NULL  NULL  NULL  NULL\",\n",
       " \" SELECT * FROM view_amenities_info WHERE gu = '관악구' AND addr LIKE '%신림고등학교%';\\n\\n### Sample Output\\nThe output of the SQL query should be a single column of addresses, in this case:\\n- 서울특별시 관악구 신림1동 1-1 신림고등학교\\n\",\n",
       " \" SELECT REGIST_DT FROM tn_fclty_sttus_info10075 WHERE FCLTY_CL_NM LIKE '%광진구 육아 종합 지원 센터%' AND REGIST_DT LIKE '%%'\\n \\n### Note\\nThe query will return a list of dates and times in the format 'YYYY-MM-DD HH:MI:SS'. You can use the 'date_format' function to change the format of the output. For example, 'SELECT date_format(REGIST_DT, '%Y-%m-%d') FROM tn_fclty_sttus_info10075 WHERE FCLTY_CL_NM LIKE '%광진구 육아 종합 지원 센터%' AND REGIST_DT LIKE '%%''\\n \\n### Additional Information\\nFor additional information, please refer to the following resources:\\nhttps://www.w3schools.com/sql/\\nhttps://www.tutorialspoint.com/sql/\\nhttps://www.mysqltutorial.org/\\nhttps://www.postgresql.org/docs/\\n\",\n",
       " ' (https://github.com/jihyeon-yu/SQL-Query-Generator/blob/master/child_care_info_s_b.sql)\\n',\n",
       " \" (https://github.com/justinliao/SQL-Queries/blob/master/tn_fclty_sttus_info1001.sql)\\n \\n### Answer\\nThe answer is:\\n`SELECT REGIST_DT FROM tn_fclty_sttus_info1001 WHERE FCLTY_NM = '서대문구6호점 우리동네키움센터'`\\n \\n\",\n",
       " ' SELECT stat_teacher_info.STYEAR, stat_teacher_info.CRTYPE, stat_teacher_info.CRTYPENM FROM stat_teacher_info;',\n",
       " \" `SELECT * FROM info_happycard WHERE COMPANY_NAME LIKE '%가족사랑%' OR ADDR LIKE '%동작구%';`\\n \\n### SQL Output\\n[SQL Output] `+-------------------+--------------------------------------+-----------------------------+-----------------------+---------------------------+\\n| CATEGORY           | COMPANY_NAME                        | ADDR                       | OFFICE_TEL            | SUPPORT                   |\\n+-------------------+--------------------------------------+-----------------------------+-----------------------+---------------------------+\\n| 보육시설          | (주)가족사랑                         | 서울시 동작구 신대방2동 37-1 | 02-820-1000           | 보육시설                 |\\n| 보육시설          | (주)가족사랑                         | 서울시 동작구 신대방2동 37-1 | 02-820-1000           | 보육시설                 |\\n| 보육시설          | (주)가족사랑                         | 서울시 동작구 신대방2동 37-1 | 02-820-1000           | 보육시설                 |\\n| 보육시설          | (주)가족사랑                         | 서울시 동작구 신대방2동 37-1 | 02-820-1000           | 보육시설                 |\\n| 보육시설          | (주)가족사랑                         | 서울시 동작구 신대방2동 37-1 | 02\",\n",
       " \" SELECT * FROM subway_tour_info WHERE STATION = '건대입구역' AND EXIT_INFO LIKE '%건대입구역%';\\n \\n### Conclusion\\nThe solution to this problem is to first find the table name containing the desired information. In this case, it is the `subway_tour_info` table. Then, it is necessary to find the column containing the desired information. In this case, it is the `EXIT_INFO` column. Finally, it is necessary to filter the results so that only rows containing the desired information are returned. In this case, it is necessary to filter the results so that only rows containing the word\",\n",
       " \" SELECT FCLT_NM FROM fclt_open_info_g_j WHERE JRSD_SGG_NM = '광진구' AND FCLT_KIND_NM = '아동복지시설'\\n \\n### Query Output\\nThis query will return the following output:\\n| FCLT_NM |\\n|---------|\\n| 광진구시설관리공단 |\\n| 광진구장애인복지관 |\\n| 광진구장애인복지관 |\\n| 광진구장애인복지관 |\\n| 광진구장애인복지관 |\\n| 광진구장애인복지관 |\\n| 광진구장애인복지관 |\\n| 광진구장애인복지관 |\\n| 광진구장애인복지관 |\\n| 광진구장애인복지관 |\\n| 광진구장애인복지관 |\\n| 광진구장애인복지관 |\\n| 광진구장애인복지관 |\\n| 광진구장애인복지관 |\\n| 광진구장애인복지관 |\\n| 광진구장애인복지관 |\\n| 광진구장애인복지관 |\\n| 광진구장애인복지관 |\\n| 광진구장애인복지관 |\\n| 광진구장애인복지관 |\\n| 광진구장애인복지관 |\\n| 광진구장애인복지관 |\\n| 광진구장애인복지관 |\\n| 광진구장애인복지관\",\n",
       " \" (SELECT * FROM iot_vdata020 WHERE REGIST_DT LIKE '%2022-02-01%' AND COLUMN2 LIKE '%4%')\\n \\n### Output\\nThe output of the query is a list of rows from the database table.  Each row represents one measurement.\\n```\\n+----------+-------------+--------------+---------------------+---------------------+---------------------+---------------------+\\n| ORGAN_NM | TRNSMIT_SERVER_NO | DATA_NO | COLUMN0 | COLUMN1 | COLUMN2 | REGIST_DT |\\n+----------+-------------+--------------+---------------------+---------------------+---------------------+---------------------+\\n| SAMSUNG | 103 | 000011 | 2022-02-01 00:00:00 | 2022-02-01 00:00:00 | 2022-02-01 00:00:00 | 2022-02-01 00:00:00 |\\n| SAMSUNG | 103 | 000012 | 2022-02-01 00:00:00 | 2022-02-01 00:00:00 | 2022-02-01 00:00:00 | 2022-02-01 00:00:00 |\\n| SAMSUNG | 103 | 000013 | 2022-02-01 00:00:00 | 2022-02-01 00:00:00 | \",\n",
       " ' (https://github.com/youngkyu/SQL/blob/master/child_care_info_d_b.sql)\\n',\n",
       " \" SELECT * FROM child_care_info_g_a WHERE CRTYPENAME = '협동' OR CRTYPENAME = '직장인'\\n\",\n",
       " \" SELECT COUNT(*) AS total_nursery, SUM(nrtrroomcnt) AS total_capacity, SUM(class_cnt_tot) AS total_children FROM child_care_info_d_b WHERE crtypename = '국공립'\\n \\n### Output\\nThe output of this SQL query is a table containing the following columns:\\n* total_nursery: The number of public nurseries\\n* total_capacity: The total capacity of public nurseries\\n* total_children: The total number of children in public nurseries\\n\",\n",
       " ' SELECT CRADDR FROM child_care_info_g_c WHERE CRTYPENAME = \\'국공립\\' AND CRCHCNT = \\'국공립\\';\\n \\n### Solution\\nIn this solution, we will use a combination of MySQL functions and a subquery to find all rows where the value of the CRTYPENAME column is \\'국공립\\' and the value of the CRCHCNT column is \\'국공립\\'. The CRCHCNT column contains the name of the child care center, so we need to filter out all rows where the CRCHCNT column does not equal \\'국공립\\'. We can do this by using the following WHERE clause:\\nWHERE CRTYPENAME = \\'국공립\\' AND CRCHCNT = \\'국공립\\';\\n \\nWe can then use the following SELECT statement to retrieve the address of each child care center that meets the criteria:\\nSELECT CRADDR FROM child_care_info_g_c WHERE CRTYPENAME = \\'국공립\\' AND CRCHCNT = \\'국공립\\';\\n \\n### Sample Data\\nHere is some sample data that could be used to test the query:\\n\"INSERT INTO child_care_info_g_c (SIGUNNAME, STCODE, CRNAME, CRTYPENAME, CRSTATUSNAME, ZIPCODE, CRADDR, CRTELNO, NRTRROOMCNT, NRTRROOMSIZE, CCTVINSTLCNT, CRCAPAT, CRCHCNT, CRCNFMDT, CRPAUSEENDDT, DATASTDRDT',\n",
       " \" SELECT CRTELNO FROM child_care_info_y_d WHERE NRTRROOMCNT < 70 AND CRTYPENAME = '보육원'\\n\",\n",
       " ' (https://github.com/hongyeonchoi/SQL-Queries/blob/main/child_care_info_m_p/child_care_info_m_p_result.sql)\\n',\n",
       " \" SELECT CRNAME, CRTELNO FROM child_care_info_g_a WHERE CRTYPENAME!= '국공립'\\n\"]"
      ]
     },
     "execution_count": 13,
     "metadata": {},
     "output_type": "execute_result"
    }
   ],
   "source": [
    "inference_query"
   ]
  },
  {
   "cell_type": "code",
   "execution_count": 13,
   "metadata": {},
   "outputs": [
    {
     "data": {
      "application/vnd.jupyter.widget-view+json": {
       "model_id": "b383f3329e1c4b7fa974e107e4c82b54",
       "version_major": 2,
       "version_minor": 0
      },
      "text/plain": [
       "  0%|          | 0/136 [00:00<?, ?it/s]"
      ]
     },
     "metadata": {},
     "output_type": "display_data"
    },
    {
     "name": "stdout",
     "output_type": "stream",
     "text": [
      "12 1055 (42000): Expression #2 of SELECT list is not in GROUP BY clause and contains nonaggregated column 'seoul_welfare.GLOBAL_JOB_COUNSEL_QTRST.Q_SUM' which is not functionally dependent on columns in GROUP BY clause; this is incompatible with sql_mode=only_full_group_by\n",
      "27 1054 (42S22): Unknown column 'MID_NM' in 'field list'\n",
      "70 1054 (42S22): Unknown column 'STALL' in 'where clause'\n"
     ]
    }
   ],
   "source": [
    "for idx, query in enumerate(tqdm(inference_query)):\n",
    "    try:\n",
    "        infer_query_result = mysql_query(db, query)\n",
    "        real_query_result = mysql_query(db, evalset['output'][idx])\n",
    "        comp = any(item in real_query_result for item in infer_query_result)\n",
    "        excute_result.append(1)\n",
    "        cnt_query_result.append(len(infer_query_result))\n",
    "        if len(infer_query_result) == len(real_query_result):\n",
    "            query_cnt_result.append(1)\n",
    "        else:\n",
    "            query_cnt_result.append(0)\n",
    "            fail_check.append(idx)\n",
    "            \n",
    "        if comp == True:\n",
    "            include_query_result.append(1)\n",
    "        else:\n",
    "            include_query_result.append(0)\n",
    "    except Exception as e:\n",
    "        excute_result.append(0)\n",
    "        cnt_query_result.append(0)\n",
    "        query_cnt_result.append(0)\n",
    "        print(idx, e)\n",
    "        fail_check.append(idx)\n",
    "\n",
    "    time.sleep(0.2)"
   ]
  },
  {
   "cell_type": "code",
   "execution_count": 14,
   "metadata": {},
   "outputs": [
    {
     "name": "stdout",
     "output_type": "stream",
     "text": [
      "쿼리 실행 확률 : 0.98\n",
      "쿼리 결과 수 같을 확률 : 0.86\n"
     ]
    }
   ],
   "source": [
    "print(f\"쿼리 실행 확률 : {round(excute_result.count(1) / len(evalset), 2)}\\n\\\n",
    "쿼리 결과 수 같을 확률 : {round(query_cnt_result.count(1) / len(evalset), 2)}\")"
   ]
  },
  {
   "cell_type": "code",
   "execution_count": 13,
   "metadata": {},
   "outputs": [],
   "source": [
    "check_fail_idx = []\n",
    "for idx, val in enumerate(query_cnt_result):\n",
    "    if val == 0:\n",
    "        check_fail_idx.append(idx)"
   ]
  },
  {
   "cell_type": "code",
   "execution_count": 15,
   "metadata": {},
   "outputs": [
    {
     "data": {
      "text/plain": [
       "358"
      ]
     },
     "execution_count": 15,
     "metadata": {},
     "output_type": "execute_result"
    }
   ],
   "source": [
    "len(check_fail_idx)"
   ]
  },
  {
   "cell_type": "code",
   "execution_count": 15,
   "metadata": {},
   "outputs": [
    {
     "data": {
      "text/plain": [
       "507"
      ]
     },
     "execution_count": 15,
     "metadata": {},
     "output_type": "execute_result"
    }
   ],
   "source": [
    "len(inference_query)"
   ]
  },
  {
   "cell_type": "code",
   "execution_count": 12,
   "metadata": {},
   "outputs": [
    {
     "data": {
      "text/plain": [
       "Dataset({\n",
       "    features: ['input', 'accept', 'reject', 'context'],\n",
       "    num_rows: 100\n",
       "})"
      ]
     },
     "execution_count": 12,
     "metadata": {},
     "output_type": "execute_result"
    }
   ],
   "source": [
    "evalset"
   ]
  },
  {
   "cell_type": "code",
   "execution_count": 14,
   "metadata": {},
   "outputs": [
    {
     "data": {
      "text/html": [
       "<div>\n",
       "<style scoped>\n",
       "    .dataframe tbody tr th:only-of-type {\n",
       "        vertical-align: middle;\n",
       "    }\n",
       "\n",
       "    .dataframe tbody tr th {\n",
       "        vertical-align: top;\n",
       "    }\n",
       "\n",
       "    .dataframe thead th {\n",
       "        text-align: right;\n",
       "    }\n",
       "</style>\n",
       "<table border=\"1\" class=\"dataframe\">\n",
       "  <thead>\n",
       "    <tr style=\"text-align: right;\">\n",
       "      <th></th>\n",
       "      <th>input</th>\n",
       "      <th>accept</th>\n",
       "      <th>reject</th>\n",
       "      <th>context</th>\n",
       "    </tr>\n",
       "  </thead>\n",
       "  <tbody>\n",
       "    <tr>\n",
       "      <th>0</th>\n",
       "      <td>모든 모듈에 대해 각 학생이 등록한 총 모듈 수를 계산하고 학생과 등록한 총 모듈 ...</td>\n",
       "      <td>SELECT id_student, COUNT(*) AS total_modules_r...</td>\n",
       "      <td>SELECT sr.id_student, COUNT(sr.code_module) AS...</td>\n",
       "      <td>CREATE TABLE studentregistration (code_module ...</td>\n",
       "    </tr>\n",
       "    <tr>\n",
       "      <th>1</th>\n",
       "      <td>지역명과 지역별 Pass 등급을 받은 학생들의 평균 학점</td>\n",
       "      <td>SELECT region, AVG(studied_credits) AS avg_cre...</td>\n",
       "      <td>SELECT region, AVG(studied_credits) AS avg_cre...</td>\n",
       "      <td>CREATE TABLE studentinfo (code_module varchar(...</td>\n",
       "    </tr>\n",
       "    <tr>\n",
       "      <th>2</th>\n",
       "      <td>가장 많은 학점을 이수한 모듈의 학생번호 및 최종 성적을 조회</td>\n",
       "      <td>SELECT sr.id_student, si.final_result FROM stu...</td>\n",
       "      <td>SELECT sr.id_student, si.final_result FROM stu...</td>\n",
       "      <td>CREATE TABLE studentinfo (code_module varchar(...</td>\n",
       "    </tr>\n",
       "    <tr>\n",
       "      <th>3</th>\n",
       "      <td>등록한 학생들 중 VLE 자료와 상호 작용한 학생들의 연령대별 평균 학점이 80보다...</td>\n",
       "      <td>SELECT s.age_band, AVG(studied_credits) AS avg...</td>\n",
       "      <td>SELECT studentinfo.age_band, AVG(studentinfo.s...</td>\n",
       "      <td>CREATE TABLE studentinfo (code_module varchar(...</td>\n",
       "    </tr>\n",
       "    <tr>\n",
       "      <th>4</th>\n",
       "      <td>각 모듈 프레젠테이션에 등록한 학생 중 VLE 자료를 이용한 학생의 평균 상호 작용...</td>\n",
       "      <td>SELECT sr.code_module, sr.code_presentation, A...</td>\n",
       "      <td>SELECT studentregistration.code_module, studen...</td>\n",
       "      <td>CREATE TABLE studentinfo (code_module varchar(...</td>\n",
       "    </tr>\n",
       "    <tr>\n",
       "      <th>...</th>\n",
       "      <td>...</td>\n",
       "      <td>...</td>\n",
       "      <td>...</td>\n",
       "      <td>...</td>\n",
       "    </tr>\n",
       "    <tr>\n",
       "      <th>393</th>\n",
       "      <td>각 지역의 지역명과 학생들의 평균 나이를 조회</td>\n",
       "      <td>SELECT region, AVG(CAST(SUBSTRING(age_band, 1,...</td>\n",
       "      <td>SELECT region, AVG(age_band) AS avg_age FROM s...</td>\n",
       "      <td>CREATE TABLE studentinfo (code_module varchar(...</td>\n",
       "    </tr>\n",
       "    <tr>\n",
       "      <th>394</th>\n",
       "      <td>평균 클릭 수 보다 높은 클릭 수의 학생들의 평균 성적을 구해줘</td>\n",
       "      <td>SELECT AVG(studentassessment.score) AS average...</td>\n",
       "      <td>SELECT AVG(studentassessment.score) AS average...</td>\n",
       "      <td>CREATE TABLE studentassessment (id_assessment ...</td>\n",
       "    </tr>\n",
       "    <tr>\n",
       "      <th>395</th>\n",
       "      <td>평가 결과가 'Distinction'이고 모든 평가 유형에서 평균 점수가 80보다 ...</td>\n",
       "      <td>SELECT COUNT(*) AS distinction_count FROM ( SE...</td>\n",
       "      <td>SELECT COUNT(DISTINCT studentinfo.id_student) ...</td>\n",
       "      <td>CREATE TABLE studentassessment (id_assessment ...</td>\n",
       "    </tr>\n",
       "    <tr>\n",
       "      <th>396</th>\n",
       "      <td>각 모듈 프레젠테이션에서 가장 높은 점수를 받은 학생의 최종 결과를 식별하고 모듈 ...</td>\n",
       "      <td>SELECT sr.code_module, sr.code_presentation, s...</td>\n",
       "      <td>SELECT sr.code_module, sr.code_presentation, s...</td>\n",
       "      <td>CREATE TABLE studentinfo (code_module varchar(...</td>\n",
       "    </tr>\n",
       "    <tr>\n",
       "      <th>397</th>\n",
       "      <td>최종 학력이 Lower Than A Level인 학생을 연령대 별로 평균 점수 확인</td>\n",
       "      <td>SELECT studentinfo.age_band, AVG(studentassess...</td>\n",
       "      <td>SELECT studentinfo.age_band, AVG(studentassess...</td>\n",
       "      <td>CREATE TABLE studentassessment (id_assessment ...</td>\n",
       "    </tr>\n",
       "  </tbody>\n",
       "</table>\n",
       "<p>398 rows × 4 columns</p>\n",
       "</div>"
      ],
      "text/plain": [
       "                                                 input  \\\n",
       "0    모든 모듈에 대해 각 학생이 등록한 총 모듈 수를 계산하고 학생과 등록한 총 모듈 ...   \n",
       "1                      지역명과 지역별 Pass 등급을 받은 학생들의 평균 학점   \n",
       "2                   가장 많은 학점을 이수한 모듈의 학생번호 및 최종 성적을 조회   \n",
       "3    등록한 학생들 중 VLE 자료와 상호 작용한 학생들의 연령대별 평균 학점이 80보다...   \n",
       "4    각 모듈 프레젠테이션에 등록한 학생 중 VLE 자료를 이용한 학생의 평균 상호 작용...   \n",
       "..                                                 ...   \n",
       "393                          각 지역의 지역명과 학생들의 평균 나이를 조회   \n",
       "394                평균 클릭 수 보다 높은 클릭 수의 학생들의 평균 성적을 구해줘   \n",
       "395  평가 결과가 'Distinction'이고 모든 평가 유형에서 평균 점수가 80보다 ...   \n",
       "396  각 모듈 프레젠테이션에서 가장 높은 점수를 받은 학생의 최종 결과를 식별하고 모듈 ...   \n",
       "397     최종 학력이 Lower Than A Level인 학생을 연령대 별로 평균 점수 확인   \n",
       "\n",
       "                                                accept  \\\n",
       "0    SELECT id_student, COUNT(*) AS total_modules_r...   \n",
       "1    SELECT region, AVG(studied_credits) AS avg_cre...   \n",
       "2    SELECT sr.id_student, si.final_result FROM stu...   \n",
       "3    SELECT s.age_band, AVG(studied_credits) AS avg...   \n",
       "4    SELECT sr.code_module, sr.code_presentation, A...   \n",
       "..                                                 ...   \n",
       "393  SELECT region, AVG(CAST(SUBSTRING(age_band, 1,...   \n",
       "394  SELECT AVG(studentassessment.score) AS average...   \n",
       "395  SELECT COUNT(*) AS distinction_count FROM ( SE...   \n",
       "396  SELECT sr.code_module, sr.code_presentation, s...   \n",
       "397  SELECT studentinfo.age_band, AVG(studentassess...   \n",
       "\n",
       "                                                reject  \\\n",
       "0    SELECT sr.id_student, COUNT(sr.code_module) AS...   \n",
       "1    SELECT region, AVG(studied_credits) AS avg_cre...   \n",
       "2    SELECT sr.id_student, si.final_result FROM stu...   \n",
       "3    SELECT studentinfo.age_band, AVG(studentinfo.s...   \n",
       "4    SELECT studentregistration.code_module, studen...   \n",
       "..                                                 ...   \n",
       "393  SELECT region, AVG(age_band) AS avg_age FROM s...   \n",
       "394  SELECT AVG(studentassessment.score) AS average...   \n",
       "395  SELECT COUNT(DISTINCT studentinfo.id_student) ...   \n",
       "396  SELECT sr.code_module, sr.code_presentation, s...   \n",
       "397  SELECT studentinfo.age_band, AVG(studentassess...   \n",
       "\n",
       "                                               context  \n",
       "0    CREATE TABLE studentregistration (code_module ...  \n",
       "1    CREATE TABLE studentinfo (code_module varchar(...  \n",
       "2    CREATE TABLE studentinfo (code_module varchar(...  \n",
       "3    CREATE TABLE studentinfo (code_module varchar(...  \n",
       "4    CREATE TABLE studentinfo (code_module varchar(...  \n",
       "..                                                 ...  \n",
       "393  CREATE TABLE studentinfo (code_module varchar(...  \n",
       "394  CREATE TABLE studentassessment (id_assessment ...  \n",
       "395  CREATE TABLE studentassessment (id_assessment ...  \n",
       "396  CREATE TABLE studentinfo (code_module varchar(...  \n",
       "397  CREATE TABLE studentassessment (id_assessment ...  \n",
       "\n",
       "[398 rows x 4 columns]"
      ]
     },
     "execution_count": 14,
     "metadata": {},
     "output_type": "execute_result"
    }
   ],
   "source": [
    "import pandas as pd\n",
    "input = pd.Series(evalset['input'])\n",
    "rejected = pd.Series(inference_query)\n",
    "chosen = pd.Series(evalset['accept'])\n",
    "context =  pd.Series(evalset['context'])\n",
    "\n",
    "df = pd.concat([input, chosen, rejected, context], axis=1)\n",
    "df.rename(columns={ 0: 'input', 1: 'accept', 2: 'reject', 3: 'context'}, inplace = True)\n",
    "df.to_csv(\"../dpo/data/0514university_dpo_kor_data.csv\")\n",
    "df"
   ]
  },
  {
   "cell_type": "code",
   "execution_count": 9,
   "metadata": {},
   "outputs": [
    {
     "name": "stderr",
     "output_type": "stream",
     "text": [
      "Setting `pad_token_id` to `eos_token_id`:128001 for open-end generation.\n"
     ]
    }
   ],
   "source": [
    "i = 1\n",
    "inputs = tokenizer(\n",
    "[\n",
    "    prompt_1.format(\n",
    "        f\"{evalset[i]['input']}\",\n",
    "        f\"{evalset[i]['context']}\",\n",
    "        f\"{evalset[i]['input']}\",\n",
    "        \"\", \n",
    "    )\n",
    "], return_tensors = \"pt\").to(\"cuda\")\n",
    "\n",
    "outputs = model.generate(**inputs, max_new_tokens = 300, use_cache = True)\n",
    "result = tokenizer.batch_decode(outputs)\n",
    "result = result[0].split(\"[SQL]\")[-1].split(\"[/SQL]\")[0]\n",
    "\n",
    "# infer_query_result = mysql_query(db, result)\n",
    "# real_query_result = mysql_query(db, evalset['output'][i])"
   ]
  },
  {
   "cell_type": "code",
   "execution_count": 10,
   "metadata": {},
   "outputs": [
    {
     "name": "stdout",
     "output_type": "stream",
     "text": [
      "SELECT c.code_module, AVG(c.module_presentation_length) as avg_presentation_length, v.activity_type, MAX(sr.date_registration) as max_date_registration FROM courses c JOIN vle v ON c.code_module = v.code_module AND c.code_presentation = v.code_presentation JOIN studentregistration sr ON c.code_module = sr.code_module AND c.code_presentation = sr.code_presentation GROUP BY c.code_module, v.activity_type;\n"
     ]
    }
   ],
   "source": [
    "from pprint import pprint\n",
    "print(result)"
   ]
  },
  {
   "cell_type": "code",
   "execution_count": 13,
   "metadata": {},
   "outputs": [
    {
     "data": {
      "text/plain": [
       "'SELECT c.code_module, AVG(c.module_presentation_length) AS avg_presentation_length, v.activity_type, AVG(v.week_to - v.week_from) AS avg_activity_duration FROM courses c JOIN vle v ON c.code_module = v.code_module AND c.code_presentation = v.code_presentation JOIN studentRegistration r ON c.code_module = r.code_module AND c.code_presentation = r.code_presentation GROUP BY c.code_module, v.activity_type;'"
      ]
     },
     "execution_count": 13,
     "metadata": {},
     "output_type": "execute_result"
    }
   ],
   "source": [
    "evalset[i]['output']"
   ]
  },
  {
   "cell_type": "markdown",
   "metadata": {},
   "source": [
    "### test"
   ]
  },
  {
   "cell_type": "code",
   "execution_count": 8,
   "metadata": {},
   "outputs": [],
   "source": [
    "class EosTokenRewardLogitsProcessor:\n",
    "  def __init__(self, eos_token_id: int, max_length: int):\n",
    "    # `eos_token_id`와 `max_length`의 유효성을 검사하는 조건문입니다.\n",
    "    if not isinstance(eos_token_id, int) or eos_token_id < 0:\n",
    "        raise ValueError(f\"`eos_token_id` has to be a positive integer, but is {eos_token_id}\")\n",
    "\n",
    "    if not isinstance(max_length, int) or max_length < 1:\n",
    "        raise ValueError(f\"`max_length` has to be an integer bigger than 1, but is {max_length}\")\n",
    "\n",
    "    # 생성자 메서드에서 `eos_token_id`와 `max_length`를 클래스 멤버 변수로 저장합니다.\n",
    "    self.eos_token_id = eos_token_id\n",
    "    self.max_length = max_length\n",
    "\n",
    "  def __call__(self, input_ids: torch.LongTensor, scores: torch.FloatTensor) -> torch.FloatTensor:\n",
    "    cur_len = input_ids.shape[-1]\n",
    "    # 보상을 증가시키는 과정을 설명하는 주석입니다.\n",
    "    # eos_token의 보상을 문장 길이에 따라 조절합니다.\n",
    "    for cur_len in (max(0, int(self.max_length * 0.8)), self.max_length):\n",
    "      ratio = cur_len / self.max_length\n",
    "      num_tokens = scores.shape[1]  # 어휘 크기 (단어 집합의 크기)\n",
    "\n",
    "      # eos_token이 아닌 다른 토큰의 점수를 조정합니다.\n",
    "      # 선택된 토큰의 부호(sign)의 지수값을 취한 것으로, 음수 값은 0에 가깝게, 양수 값은 1에 가깝게 변환합니다.\n",
    "      scores[:, [i for i in range(num_tokens) if i != self.eos_token_id]] = \\\n",
    "        scores[:, [i for i in range(num_tokens) if i != self.eos_token_id]] * ratio * 10 * torch.exp(-torch.sign(scores[:, [i for i in range(num_tokens) if i != self.eos_token_id]]))\n",
    "\n",
    "      # eos_token의 보상을 특정 상수로 설정합니다.\n",
    "      scores[:, self.eos_token_id] = 1e2 * ratio\n",
    "\n",
    "    # 조정된 점수가 저장된 scores를 반환합니다.\n",
    "    return scores"
   ]
  },
  {
   "cell_type": "code",
   "execution_count": 10,
   "metadata": {},
   "outputs": [],
   "source": [
    "from pprint import pprint\n",
    "from googletrans import Translator\n",
    "\n",
    "translator = Translator()"
   ]
  },
  {
   "cell_type": "code",
   "execution_count": 20,
   "metadata": {},
   "outputs": [
    {
     "name": "stderr",
     "output_type": "stream",
     "text": [
      "Setting `pad_token_id` to `eos_token_id`:128001 for open-end generation.\n"
     ]
    },
    {
     "name": "stdout",
     "output_type": "stream",
     "text": [
      "Inference: SELECT AVG(studied_credits) FROM studentInfo;\n",
      "Label: SELECT AVG(studied_credits) as avg_credits\n",
      "FROM studentInfo;\n"
     ]
    },
    {
     "ename": "NameError",
     "evalue": "name 'mysql_query' is not defined",
     "output_type": "error",
     "traceback": [
      "\u001b[0;31m---------------------------------------------------------------------------\u001b[0m",
      "\u001b[0;31mNameError\u001b[0m                                 Traceback (most recent call last)",
      "Cell \u001b[0;32mIn[20], line 25\u001b[0m\n\u001b[1;32m     23\u001b[0m \u001b[39m# print(f\"Inference: {result}\\nLabel: {evalset['output'][j]}\")\u001b[39;00m\n\u001b[1;32m     24\u001b[0m \u001b[39mprint\u001b[39m(\u001b[39mf\u001b[39m\u001b[39m\"\u001b[39m\u001b[39mInference: \u001b[39m\u001b[39m{\u001b[39;00mresult\u001b[39m}\u001b[39;00m\u001b[39m\\n\u001b[39;00m\u001b[39mLabel: \u001b[39m\u001b[39m{\u001b[39;00mlabel\u001b[39m}\u001b[39;00m\u001b[39m\"\u001b[39m)\n\u001b[0;32m---> 25\u001b[0m infer_query_result \u001b[39m=\u001b[39m mysql_query(db, result)\n\u001b[1;32m     26\u001b[0m real_query_result \u001b[39m=\u001b[39m mysql_query(db, label)\n\u001b[1;32m     27\u001b[0m comp \u001b[39m=\u001b[39m \u001b[39many\u001b[39m(item \u001b[39min\u001b[39;00m real_query_result \u001b[39mfor\u001b[39;00m item \u001b[39min\u001b[39;00m infer_query_result)\n",
      "\u001b[0;31mNameError\u001b[0m: name 'mysql_query' is not defined"
     ]
    }
   ],
   "source": [
    "j = 10\n",
    "korean_input = df['질문'][j]\n",
    "label = df['답변'][j]\n",
    "question = translator.translate(korean_input, dest='en').text\n",
    "inputs = tokenizer(\n",
    "    [\n",
    "        alpaca_prompt.format(\n",
    "            f\"{question}\", # input\n",
    "            \"\", \n",
    "        )\n",
    "    ], return_tensors = \"pt\").to(\"cuda\")\n",
    "# pprint(inputs)\n",
    "outputs = model.generate(**inputs,\n",
    "                         max_new_tokens = 300,\n",
    "                        #  pad_token_id= tokenizer.eos_token_id,\n",
    "                        #  eos_token_id= tokenizer.eos_token_id,\n",
    "                         output_scores=True,\n",
    "                        #  logits_processor =[EosTokenRewardLogitsProcessor(eos_token_id=tokenizer.eos_token_id, max_length=300)],\n",
    "                         use_cache = True)\n",
    "result = tokenizer.batch_decode(outputs)\n",
    "result = result[0].split(\"### Response:\")[-1].split(\";\")[0].split(\"<|end_of_text|>\")[0].replace(\"\\n\", \"\") + \";\"\n",
    "torch.cuda.empty_cache()\n",
    "# print(f\"Inference: {result}\\nLabel: {evalset['output'][j]}\")\n",
    "print(f\"Inference: {result}\\nLabel: {label}\")\n",
    "infer_query_result = mysql_query(db, result)\n",
    "real_query_result = mysql_query(db, label)\n",
    "comp = any(item in real_query_result for item in infer_query_result)\n",
    "pritn(f\"\\ncomparison: {comp}\")"
   ]
  },
  {
   "cell_type": "code",
   "execution_count": null,
   "metadata": {},
   "outputs": [],
   "source": []
  }
 ],
 "metadata": {
  "kernelspec": {
   "display_name": "Python 3 (ipykernel)",
   "language": "python",
   "name": "python3"
  },
  "language_info": {
   "codemirror_mode": {
    "name": "ipython",
    "version": 3
   },
   "file_extension": ".py",
   "mimetype": "text/x-python",
   "name": "python",
   "nbconvert_exporter": "python",
   "pygments_lexer": "ipython3",
   "version": "3.10.14"
  }
 },
 "nbformat": 4,
 "nbformat_minor": 2
}
