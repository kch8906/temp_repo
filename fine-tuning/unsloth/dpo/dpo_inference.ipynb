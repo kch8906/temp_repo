{
 "cells": [
  {
   "cell_type": "code",
   "execution_count": 1,
   "metadata": {},
   "outputs": [],
   "source": [
    "from unsloth import FastLanguageModel\n",
    "import torch\n",
    "from trl import SFTTrainer\n",
    "from transformers import TrainingArguments\n",
    "from datasets import load_dataset\n",
    "import mysql.connector\n",
    "from tqdm.notebook import tqdm\n",
    "import pandas as pd\n",
    "import time"
   ]
  },
  {
   "cell_type": "code",
   "execution_count": 2,
   "metadata": {},
   "outputs": [],
   "source": [
    "def connect_db():\n",
    "    db = mysql.connector.connect(\n",
    "        host=\"101.101.210.141\",\n",
    "        user=\"study\",\n",
    "        passwd=\"study!@#$%\",\n",
    "        database=\"university_learning\"\n",
    "        # database=\"aihub_seoul_healthcare\"\n",
    ")\n",
    "    return db\n",
    "\n",
    "def mysql_query(database, query:str):\n",
    "    database.reconnect()\n",
    "    cur = database.cursor() \n",
    "    cur.execute(query)\n",
    "    result = cur.fetchall()\n",
    "\n",
    "    return result"
   ]
  },
  {
   "cell_type": "code",
   "execution_count": 3,
   "metadata": {},
   "outputs": [],
   "source": [
    "db = connect_db()"
   ]
  },
  {
   "cell_type": "code",
   "execution_count": 4,
   "metadata": {},
   "outputs": [
    {
     "data": {
      "text/plain": [
       "100"
      ]
     },
     "execution_count": 4,
     "metadata": {},
     "output_type": "execute_result"
    }
   ],
   "source": [
    "# eval_data_path = './data/val_unsloth.jsonl'\n",
    "# eval_data_path = '../data/university/data.jsonl'\n",
    "# eval_data_path = '../data/welfare/test.jsonl'\n",
    "eval_data_path = './data/0514university_test_row.jsonl'\n",
    "evalset = load_dataset(\"json\", data_files = eval_data_path, split='train')\n",
    "len(evalset)"
   ]
  },
  {
   "cell_type": "code",
   "execution_count": 5,
   "metadata": {},
   "outputs": [
    {
     "name": "stdout",
     "output_type": "stream",
     "text": [
      "==((====))==  Unsloth: Fast Llama patching release 2024.4\n",
      "   \\\\   /|    GPU: NVIDIA GeForce RTX 4090. Max memory: 23.628 GB. Platform = Linux.\n",
      "O^O/ \\_/ \\    Pytorch: 2.2.2. CUDA = 8.9. CUDA Toolkit = 12.1.\n",
      "\\        /    Bfloat16 = TRUE. Xformers = 0.0.25.post1. FA = False.\n",
      " \"-____-\"     Free Apache license: http://github.com/unslothai/unsloth\n"
     ]
    },
    {
     "name": "stderr",
     "output_type": "stream",
     "text": [
      "Unused kwargs: ['_load_in_4bit', '_load_in_8bit', 'quant_method']. These kwargs are not used in <class 'transformers.utils.quantization_config.BitsAndBytesConfig'>.\n",
      "Special tokens have been added in the vocabulary, make sure the associated word embeddings are fine-tuned or trained.\n",
      "Special tokens have been added in the vocabulary, make sure the associated word embeddings are fine-tuned or trained.\n",
      "Unsloth 2024.4 patched 32 layers with 32 QKV layers, 32 O layers and 32 MLP layers.\n"
     ]
    }
   ],
   "source": [
    "max_seq_length = 2048\n",
    "dtype = None\n",
    "load_in_4bit = True\n",
    "model, tokenizer = FastLanguageModel.from_pretrained(\n",
    "    # model_name = \"Crysiss/llama-3-8B-sqlcontext-sft-v0.1\",\n",
    "    model_name = \"Crysiss/llama-3-8B-university-orpo-v0.1\",\n",
    "    # model_name = \"Crysiss/llama-3-8B-sql-orpo-v0.1\",\n",
    "    max_seq_length = max_seq_length,\n",
    "    dtype = dtype,\n",
    "    load_in_4bit = load_in_4bit\n",
    ")"
   ]
  },
  {
   "cell_type": "code",
   "execution_count": 6,
   "metadata": {},
   "outputs": [],
   "source": [
    "prompt_1 = \"\"\"### Task\n",
    "Generate a SQL query to answer the following question:\n",
    "`{}`\n",
    " \n",
    "### Database Schema\n",
    "This query will run on a database whose schema is represented in this string:\n",
    "\"{}\"\n",
    "An example of the SQL would be 'SELECT * FROM orders WHERE DATE(orderdate) = CURDATE() - INTERVAL 1 DAY AND status = 'COMPLETED'\n",
    " \n",
    "### SQL\n",
    "Given the database schema, here is the SQL query that answers `{}`:\n",
    "[SQL]{}\"\"\""
   ]
  },
  {
   "cell_type": "code",
   "execution_count": 7,
   "metadata": {},
   "outputs": [],
   "source": [
    "test = prompt_1.format(\n",
    "            f\"{evalset[1]['input']}\",\n",
    "            f\"{evalset[1]['context']}\",\n",
    "            f\"{evalset[1]['input']}\",\n",
    "            \"\", \n",
    "        )"
   ]
  },
  {
   "cell_type": "code",
   "execution_count": 8,
   "metadata": {},
   "outputs": [
    {
     "name": "stdout",
     "output_type": "stream",
     "text": [
      "### Task\n",
      "Generate a SQL query to answer the following question:\n",
      "`각 수업에서 특정 활동 유형이 학생의 평균 성적에 미치는 영향`\n",
      " \n",
      "### Database Schema\n",
      "This query will run on a database whose schema is represented in this string:\n",
      "\"CREATE TABLE studentvle (code_module varchar(45) NOT NULL -- 'an identification code for a module.', code_presentation varchar(45) NOT NULL -- 'the identification code of the module presentation.', id_student int -- 'a unique identification number for the student.', id_site int -- 'an identification number for the VLE material.', date int -- 'the date of student’s interaction with the material measured as the number of days since the start of the - module-presentation.', sum_click int -- 'the number of times a student interacts with the material in that day.', KEY id_student (id_site), KEY id_site (id_student), KEY code_module (code_module), KEY code_presentation (code_presentation)) ; CREATE TABLE studentassessment (id_assessment int -- 'a unique identification number for the student.', id_student int -- 'the identification number of the assessment.', date_submitted int -- 'the date of student submission, measured as the number of days since the start of the module presentation.', is_branked tinyint NOT NULL -- 'a status flag indicating that the assessment result has been transferred from a previous presentation.', score float -- 'the student’s score in this assessment. The range is from 0 to 100. The score lower than 40 is interpreted as Fail. The marks are in the range from 0 to 100.', KEY id_student (id_assessment), KEY id_assessment (id_student)) ; CREATE TABLE courses (code_module varchar(45) NOT NULL -- 'code name of the module, which serves as the identifier.', code_presentation varchar(45) NOT NULL -- 'code name of the presentation. It consists of the year and “B” for the presentation starting in February and “J” for the presentation starting in October.', module_presentation_length int NOT NULL -- 'length of the module-presentation in days.', PRIMARY KEY (code_module,code_presentation), KEY code_module_id (code_module), KEY code_presentation_id (code_presentation)) ; CREATE TABLE vle (id_site int NOT NULL -- 'an identification number of the material.', code_module varchar(45) NOT NULL -- 'an identification code for module.', code_presentation varchar(45) NOT NULL -- 'the identification code of presentation.', activity_type varchar(45) -- 'the role associated with the module material.', week_from int -- 'the week from which the material is planned to be used.', week_to int -- 'week until which the material is planned to be used.', PRIMARY KEY (id_site), KEY vle_ibfk_1 (code_module), KEY vle_ibfk_2 (code_presentation), CONSTRAINT vle_ibfk_1 FOREIGN KEY (code_module) REFERENCES courses (code_module), CONSTRAINT vle_ibfk_2 FOREIGN KEY (code_presentation) REFERENCES courses (code_presentation)) ; CREATE TABLE assessments (code_module varchar(45) NOT NULL -- 'identification code of the module, to which the assessment belongs.', code_presentation varchar(45) NOT NULL -- 'identification code of the presentation, to which the assessment belongs.', id_assessment int NOT NULL -- 'identification number of the assessment.', assessment_type varchar(45) -- 'type of assessment. Three types of assessments exist: Tutor Marked Assessment (TMA), Computer Marked Assessment (CMA) and Final Exam (Exam).', date int -- 'information about the final submission date of the assessment calculated as the number of days since the start of the module-presentation. The starting date of the presentation has number 0 (zero).', weight int -- 'weight of the assessment in %. Typically, Exams are treated separately and have the weight 100%; the sum of all other assessments is 100%.', PRIMARY KEY (id_assessment), KEY assessments_ibfk_1 (code_module), KEY assessments_ibfk_2 (code_presentation), CONSTRAINT assessments_ibfk_1 FOREIGN KEY (code_module) REFERENCES courses (code_module), CONSTRAINT assessments_ibfk_2 FOREIGN KEY (code_presentation) REFERENCES courses (code_presentation)) ;\"\n",
      "An example of the SQL would be 'SELECT * FROM orders WHERE DATE(orderdate) = CURDATE() - INTERVAL 1 DAY AND status = 'COMPLETED'\n",
      " \n",
      "### SQL\n",
      "Given the database schema, here is the SQL query that answers `각 수업에서 특정 활동 유형이 학생의 평균 성적에 미치는 영향`:\n",
      "[SQL]\n"
     ]
    }
   ],
   "source": [
    "print(test)"
   ]
  },
  {
   "cell_type": "code",
   "execution_count": 11,
   "metadata": {},
   "outputs": [],
   "source": [
    "excute_result = []\n",
    "query_cnt_result = []\n",
    "include_query_result = []\n",
    "cnt_query_result = []\n",
    "inference_query = []\n",
    "fail_check = []\n",
    "FastLanguageModel.for_inference(model) "
   ]
  },
  {
   "cell_type": "code",
   "execution_count": 12,
   "metadata": {},
   "outputs": [
    {
     "data": {
      "application/vnd.jupyter.widget-view+json": {
       "model_id": "ad191249b6bb4f918affd8339bfc734c",
       "version_major": 2,
       "version_minor": 0
      },
      "text/plain": [
       "  0%|          | 0/100 [00:00<?, ?it/s]"
      ]
     },
     "metadata": {},
     "output_type": "display_data"
    },
    {
     "name": "stderr",
     "output_type": "stream",
     "text": [
      "Setting `pad_token_id` to `eos_token_id`:128001 for open-end generation.\n",
      "Setting `pad_token_id` to `eos_token_id`:128001 for open-end generation.\n",
      "Setting `pad_token_id` to `eos_token_id`:128001 for open-end generation.\n",
      "Setting `pad_token_id` to `eos_token_id`:128001 for open-end generation.\n",
      "Setting `pad_token_id` to `eos_token_id`:128001 for open-end generation.\n",
      "Setting `pad_token_id` to `eos_token_id`:128001 for open-end generation.\n",
      "Setting `pad_token_id` to `eos_token_id`:128001 for open-end generation.\n",
      "Setting `pad_token_id` to `eos_token_id`:128001 for open-end generation.\n",
      "Setting `pad_token_id` to `eos_token_id`:128001 for open-end generation.\n",
      "Setting `pad_token_id` to `eos_token_id`:128001 for open-end generation.\n",
      "Setting `pad_token_id` to `eos_token_id`:128001 for open-end generation.\n"
     ]
    },
    {
     "name": "stdout",
     "output_type": "stream",
     "text": [
      "10 1054 (42S22): Unknown column 'sr.code_module' in 'field list'\n"
     ]
    },
    {
     "name": "stderr",
     "output_type": "stream",
     "text": [
      "Setting `pad_token_id` to `eos_token_id`:128001 for open-end generation.\n",
      "Setting `pad_token_id` to `eos_token_id`:128001 for open-end generation.\n",
      "Setting `pad_token_id` to `eos_token_id`:128001 for open-end generation.\n",
      "Setting `pad_token_id` to `eos_token_id`:128001 for open-end generation.\n"
     ]
    },
    {
     "name": "stdout",
     "output_type": "stream",
     "text": [
      "14 1111 (HY000): Invalid use of group function\n"
     ]
    },
    {
     "name": "stderr",
     "output_type": "stream",
     "text": [
      "Setting `pad_token_id` to `eos_token_id`:128001 for open-end generation.\n",
      "Setting `pad_token_id` to `eos_token_id`:128001 for open-end generation.\n",
      "Setting `pad_token_id` to `eos_token_id`:128001 for open-end generation.\n",
      "Setting `pad_token_id` to `eos_token_id`:128001 for open-end generation.\n",
      "Setting `pad_token_id` to `eos_token_id`:128001 for open-end generation.\n",
      "Setting `pad_token_id` to `eos_token_id`:128001 for open-end generation.\n",
      "Setting `pad_token_id` to `eos_token_id`:128001 for open-end generation.\n",
      "Setting `pad_token_id` to `eos_token_id`:128001 for open-end generation.\n",
      "Setting `pad_token_id` to `eos_token_id`:128001 for open-end generation.\n",
      "Setting `pad_token_id` to `eos_token_id`:128001 for open-end generation.\n",
      "Setting `pad_token_id` to `eos_token_id`:128001 for open-end generation.\n",
      "Setting `pad_token_id` to `eos_token_id`:128001 for open-end generation.\n",
      "Setting `pad_token_id` to `eos_token_id`:128001 for open-end generation.\n",
      "Setting `pad_token_id` to `eos_token_id`:128001 for open-end generation.\n",
      "Setting `pad_token_id` to `eos_token_id`:128001 for open-end generation.\n",
      "Setting `pad_token_id` to `eos_token_id`:128001 for open-end generation.\n",
      "Setting `pad_token_id` to `eos_token_id`:128001 for open-end generation.\n",
      "Setting `pad_token_id` to `eos_token_id`:128001 for open-end generation.\n",
      "Setting `pad_token_id` to `eos_token_id`:128001 for open-end generation.\n",
      "Setting `pad_token_id` to `eos_token_id`:128001 for open-end generation.\n",
      "Setting `pad_token_id` to `eos_token_id`:128001 for open-end generation.\n",
      "Setting `pad_token_id` to `eos_token_id`:128001 for open-end generation.\n",
      "Setting `pad_token_id` to `eos_token_id`:128001 for open-end generation.\n",
      "Setting `pad_token_id` to `eos_token_id`:128001 for open-end generation.\n",
      "Setting `pad_token_id` to `eos_token_id`:128001 for open-end generation.\n",
      "Setting `pad_token_id` to `eos_token_id`:128001 for open-end generation.\n",
      "Setting `pad_token_id` to `eos_token_id`:128001 for open-end generation.\n",
      "Setting `pad_token_id` to `eos_token_id`:128001 for open-end generation.\n",
      "Setting `pad_token_id` to `eos_token_id`:128001 for open-end generation.\n"
     ]
    },
    {
     "name": "stdout",
     "output_type": "stream",
     "text": [
      "43 1054 (42S22): Unknown column 'code_gender' in 'field list'\n"
     ]
    },
    {
     "name": "stderr",
     "output_type": "stream",
     "text": [
      "Setting `pad_token_id` to `eos_token_id`:128001 for open-end generation.\n"
     ]
    },
    {
     "name": "stdout",
     "output_type": "stream",
     "text": [
      "44 1054 (42S22): Unknown column 'studentinfo.code_site' in 'field list'\n"
     ]
    },
    {
     "name": "stderr",
     "output_type": "stream",
     "text": [
      "Setting `pad_token_id` to `eos_token_id`:128001 for open-end generation.\n",
      "Setting `pad_token_id` to `eos_token_id`:128001 for open-end generation.\n",
      "Setting `pad_token_id` to `eos_token_id`:128001 for open-end generation.\n",
      "Setting `pad_token_id` to `eos_token_id`:128001 for open-end generation.\n",
      "Setting `pad_token_id` to `eos_token_id`:128001 for open-end generation.\n",
      "Setting `pad_token_id` to `eos_token_id`:128001 for open-end generation.\n",
      "Setting `pad_token_id` to `eos_token_id`:128001 for open-end generation.\n",
      "Setting `pad_token_id` to `eos_token_id`:128001 for open-end generation.\n",
      "Setting `pad_token_id` to `eos_token_id`:128001 for open-end generation.\n",
      "Setting `pad_token_id` to `eos_token_id`:128001 for open-end generation.\n",
      "Setting `pad_token_id` to `eos_token_id`:128001 for open-end generation.\n",
      "Setting `pad_token_id` to `eos_token_id`:128001 for open-end generation.\n",
      "Setting `pad_token_id` to `eos_token_id`:128001 for open-end generation.\n",
      "Setting `pad_token_id` to `eos_token_id`:128001 for open-end generation.\n",
      "Setting `pad_token_id` to `eos_token_id`:128001 for open-end generation.\n",
      "Setting `pad_token_id` to `eos_token_id`:128001 for open-end generation.\n",
      "Setting `pad_token_id` to `eos_token_id`:128001 for open-end generation.\n",
      "Setting `pad_token_id` to `eos_token_id`:128001 for open-end generation.\n"
     ]
    },
    {
     "name": "stdout",
     "output_type": "stream",
     "text": [
      "62 1054 (42S22): Unknown column 'studentinfo.exam_score' in 'field list'\n"
     ]
    },
    {
     "name": "stderr",
     "output_type": "stream",
     "text": [
      "Setting `pad_token_id` to `eos_token_id`:128001 for open-end generation.\n"
     ]
    },
    {
     "name": "stdout",
     "output_type": "stream",
     "text": [
      "63 1054 (42S22): Unknown column 'score' in 'field list'\n"
     ]
    },
    {
     "name": "stderr",
     "output_type": "stream",
     "text": [
      "Setting `pad_token_id` to `eos_token_id`:128001 for open-end generation.\n",
      "Setting `pad_token_id` to `eos_token_id`:128001 for open-end generation.\n",
      "Setting `pad_token_id` to `eos_token_id`:128001 for open-end generation.\n"
     ]
    },
    {
     "name": "stdout",
     "output_type": "stream",
     "text": [
      "66 1064 (42000): You have an error in your SQL syntax; check the manual that corresponds to your MySQL server version for the right syntax to use near 'SQL WHERE date <= 28 AND date > 0 GROUP BY code_module, code_presentation ORDER ' at line 1\n"
     ]
    },
    {
     "name": "stderr",
     "output_type": "stream",
     "text": [
      "Setting `pad_token_id` to `eos_token_id`:128001 for open-end generation.\n",
      "Setting `pad_token_id` to `eos_token_id`:128001 for open-end generation.\n",
      "Setting `pad_token_id` to `eos_token_id`:128001 for open-end generation.\n",
      "Setting `pad_token_id` to `eos_token_id`:128001 for open-end generation.\n",
      "Setting `pad_token_id` to `eos_token_id`:128001 for open-end generation.\n",
      "Setting `pad_token_id` to `eos_token_id`:128001 for open-end generation.\n",
      "Setting `pad_token_id` to `eos_token_id`:128001 for open-end generation.\n",
      "Setting `pad_token_id` to `eos_token_id`:128001 for open-end generation.\n",
      "Setting `pad_token_id` to `eos_token_id`:128001 for open-end generation.\n",
      "Setting `pad_token_id` to `eos_token_id`:128001 for open-end generation.\n",
      "Setting `pad_token_id` to `eos_token_id`:128001 for open-end generation.\n",
      "Setting `pad_token_id` to `eos_token_id`:128001 for open-end generation.\n",
      "Setting `pad_token_id` to `eos_token_id`:128001 for open-end generation.\n",
      "Setting `pad_token_id` to `eos_token_id`:128001 for open-end generation.\n",
      "Setting `pad_token_id` to `eos_token_id`:128001 for open-end generation.\n",
      "Setting `pad_token_id` to `eos_token_id`:128001 for open-end generation.\n"
     ]
    },
    {
     "name": "stdout",
     "output_type": "stream",
     "text": [
      "82 1054 (42S22): Unknown column 'a.score' in 'field list'\n"
     ]
    },
    {
     "name": "stderr",
     "output_type": "stream",
     "text": [
      "Setting `pad_token_id` to `eos_token_id`:128001 for open-end generation.\n",
      "Setting `pad_token_id` to `eos_token_id`:128001 for open-end generation.\n",
      "Setting `pad_token_id` to `eos_token_id`:128001 for open-end generation.\n",
      "Setting `pad_token_id` to `eos_token_id`:128001 for open-end generation.\n"
     ]
    },
    {
     "name": "stdout",
     "output_type": "stream",
     "text": [
      "86 1054 (42S22): Unknown column 'age' in 'field list'\n"
     ]
    },
    {
     "name": "stderr",
     "output_type": "stream",
     "text": [
      "Setting `pad_token_id` to `eos_token_id`:128001 for open-end generation.\n"
     ]
    },
    {
     "name": "stdout",
     "output_type": "stream",
     "text": [
      "87 1054 (42S22): Unknown column 'si.date_registration' in 'field list'\n"
     ]
    },
    {
     "name": "stderr",
     "output_type": "stream",
     "text": [
      "Setting `pad_token_id` to `eos_token_id`:128001 for open-end generation.\n",
      "Setting `pad_token_id` to `eos_token_id`:128001 for open-end generation.\n",
      "Setting `pad_token_id` to `eos_token_id`:128001 for open-end generation.\n",
      "Setting `pad_token_id` to `eos_token_id`:128001 for open-end generation.\n",
      "Setting `pad_token_id` to `eos_token_id`:128001 for open-end generation.\n",
      "Setting `pad_token_id` to `eos_token_id`:128001 for open-end generation.\n",
      "Setting `pad_token_id` to `eos_token_id`:128001 for open-end generation.\n",
      "Setting `pad_token_id` to `eos_token_id`:128001 for open-end generation.\n",
      "Setting `pad_token_id` to `eos_token_id`:128001 for open-end generation.\n",
      "Setting `pad_token_id` to `eos_token_id`:128001 for open-end generation.\n",
      "Setting `pad_token_id` to `eos_token_id`:128001 for open-end generation.\n",
      "Setting `pad_token_id` to `eos_token_id`:128001 for open-end generation.\n"
     ]
    }
   ],
   "source": [
    "for i in tqdm(range(len(evalset))):\n",
    "    inputs = tokenizer(\n",
    "    [\n",
    "        prompt_1.format(\n",
    "            f\"{evalset[i]['input']}\",\n",
    "            f\"{evalset[i]['context']}\",\n",
    "            f\"{evalset[i]['input']}\",\n",
    "            \"\", \n",
    "        )\n",
    "    ], return_tensors = \"pt\").to(\"cuda\")\n",
    "\n",
    "    outputs = model.generate(**inputs, max_new_tokens = 300, use_cache = True)\n",
    "    result = tokenizer.batch_decode(outputs)\n",
    "    result = result[0].split(\"[SQL]\")[-1].split(\"[/SQL]\")[0].split(\"<|end_of_text|>\")[0]\n",
    "    torch.cuda.empty_cache()\n",
    "    inference_query.append(result)\n",
    "    # print(f\"index:{i}\\ninference:{result}\")\n",
    "    \n",
    "    try:\n",
    "        infer_query_result = mysql_query(db, result)\n",
    "        real_query_result = mysql_query(db, evalset['accept'][i])\n",
    "        comp = any(item in real_query_result for item in infer_query_result)\n",
    "        excute_result.append(1)\n",
    "        cnt_query_result.append(len(infer_query_result))\n",
    "        if len(infer_query_result) == len(real_query_result):\n",
    "            query_cnt_result.append(1)\n",
    "        else:\n",
    "            query_cnt_result.append(0)\n",
    "            fail_check.append(i)\n",
    "             \n",
    "        if comp == True:\n",
    "            include_query_result.append(1)\n",
    "        else:\n",
    "            include_query_result.append(0)\n",
    "    except Exception as e:\n",
    "        excute_result.append(0)\n",
    "        cnt_query_result.append(0)\n",
    "        query_cnt_result.append(0)\n",
    "        print(i, e)\n",
    "        fail_check.append(i)\n",
    "\n",
    "    time.sleep(0.2)"
   ]
  },
  {
   "cell_type": "code",
   "execution_count": 11,
   "metadata": {},
   "outputs": [
    {
     "data": {
      "text/plain": [
       "100"
      ]
     },
     "execution_count": 11,
     "metadata": {},
     "output_type": "execute_result"
    }
   ],
   "source": [
    "len(inference_query)"
   ]
  },
  {
   "cell_type": "code",
   "execution_count": 12,
   "metadata": {},
   "outputs": [
    {
     "data": {
      "text/plain": [
       "'SELECT c.code_module, c.code_presentation, si.age_band, v.activity_type, AVG(sa.score) AS average_score FROM studentassessment sa JOIN studentinfo si ON sa.id_student = si.id_student JOIN courses c ON si.code_module = c.code_module AND si.code_presentation = c.code_presentation JOIN studentvle sv ON sa.id_student = sv.id_student JOIN vle v ON sv.id_site = v.id_site GROUP BY c.code_module, c.code_presentation, si.age_band, v.activity_type ORDER BY c.code_module, c.code_presentation, si.age_band, v.activity_type;'"
      ]
     },
     "execution_count": 12,
     "metadata": {},
     "output_type": "execute_result"
    }
   ],
   "source": [
    "evalset['accept'][i]"
   ]
  },
  {
   "cell_type": "code",
   "execution_count": 13,
   "metadata": {},
   "outputs": [
    {
     "data": {
      "application/vnd.jupyter.widget-view+json": {
       "model_id": "fcf3a91a0d4f479897ebceccd2caec56",
       "version_major": 2,
       "version_minor": 0
      },
      "text/plain": [
       "  0%|          | 0/100 [00:00<?, ?it/s]"
      ]
     },
     "metadata": {},
     "output_type": "display_data"
    },
    {
     "name": "stdout",
     "output_type": "stream",
     "text": [
      "10 1054 (42S22): Unknown column 'sr.code_module' in 'field list'\n",
      "14 1111 (HY000): Invalid use of group function\n",
      "28 1054 (42S22): Unknown column 'si.score_analysis' in 'field list'\n",
      "43 1054 (42S22): Unknown column 'code_gender' in 'field list'\n",
      "44 1054 (42S22): Unknown column 'studentinfo.code_site' in 'field list'\n",
      "45 1064 (42000): You have an error in your SQL syntax; check the manual that corresponds to your MySQL server version for the right syntax to use near 'WITH shorter_duration FROM courses WHERE module_presentation_length < shorter_du' at line 1\n",
      "47 1064 (42000): You have an error in your SQL syntax; check the manual that corresponds to your MySQL server version for the right syntax to use near '/ sa.total_students) * 100 AS vle_percentage FROM studentregistration sr LEFT JO' at line 1\n",
      "62 1064 (42000): You have an error in your SQL syntax; check the manual that corresponds to your MySQL server version for the right syntax to use near 'FULL JOIN studentvle sv ON studentregistration.id_student = sv.id_student FULL J' at line 1\n",
      "63 1054 (42S22): Unknown column 'score' in 'field list'\n",
      "71 1064 (42000): You have an error in your SQL syntax; check the manual that corresponds to your MySQL server version for the right syntax to use near 'WHERE disability = 'Y') AS num_disabled FROM studentInfo GROUP BY code_module OR' at line 1\n",
      "82 1054 (42S22): Unknown column 'a.score' in 'field list'\n",
      "84 1054 (42S22): Unknown column 's.gender' in 'field list'\n",
      "86 1054 (42S22): Unknown column 'age' in 'field list'\n",
      "87 1054 (42S22): Unknown column 'si.date_registration' in 'field list'\n"
     ]
    }
   ],
   "source": [
    "for idx, query in enumerate(tqdm(inference_query)):\n",
    "    try:\n",
    "            infer_query_result = mysql_query(db, query)\n",
    "            real_query_result = mysql_query(db, evalset['accept'][idx])\n",
    "            comp = any(item in real_query_result for item in infer_query_result)\n",
    "            excute_result.append(1)\n",
    "            cnt_query_result.append(len(infer_query_result))\n",
    "            if len(infer_query_result) == len(real_query_result):\n",
    "                query_cnt_result.append(1)\n",
    "            else:\n",
    "                query_cnt_result.append(0)\n",
    "                fail_check.append(idx)\n",
    "                \n",
    "            if comp == True:\n",
    "                include_query_result.append(1)\n",
    "            else:\n",
    "                include_query_result.append(0)\n",
    "    except Exception as e:\n",
    "        excute_result.append(0)\n",
    "        cnt_query_result.append(0)\n",
    "        query_cnt_result.append(0)\n",
    "        print(idx, e)\n",
    "        fail_check.append(idx)\n",
    "\n",
    "    time.sleep(0.2)"
   ]
  },
  {
   "cell_type": "code",
   "execution_count": 13,
   "metadata": {},
   "outputs": [
    {
     "name": "stdout",
     "output_type": "stream",
     "text": [
      "쿼리 실행 확률 : 0.9\n",
      "쿼리 결과 수 같을 확률 : 0.66\n"
     ]
    }
   ],
   "source": [
    "print(f\"쿼리 실행 확률 : {round(excute_result.count(1) / len(evalset), 2)}\\n\\\n",
    "쿼리 결과 수 같을 확률 : {round(query_cnt_result.count(1) / len(evalset), 2)}\")"
   ]
  },
  {
   "cell_type": "code",
   "execution_count": 13,
   "metadata": {},
   "outputs": [],
   "source": [
    "check_fail_idx = []\n",
    "for idx, val in enumerate(query_cnt_result):\n",
    "    if val == 0:\n",
    "        check_fail_idx.append(idx)"
   ]
  },
  {
   "cell_type": "code",
   "execution_count": 15,
   "metadata": {},
   "outputs": [
    {
     "data": {
      "text/plain": [
       "358"
      ]
     },
     "execution_count": 15,
     "metadata": {},
     "output_type": "execute_result"
    }
   ],
   "source": [
    "len(check_fail_idx)"
   ]
  },
  {
   "cell_type": "code",
   "execution_count": 15,
   "metadata": {},
   "outputs": [
    {
     "data": {
      "text/plain": [
       "507"
      ]
     },
     "execution_count": 15,
     "metadata": {},
     "output_type": "execute_result"
    }
   ],
   "source": [
    "len(inference_query)"
   ]
  },
  {
   "cell_type": "code",
   "execution_count": 13,
   "metadata": {},
   "outputs": [
    {
     "data": {
      "text/html": [
       "<div>\n",
       "<style scoped>\n",
       "    .dataframe tbody tr th:only-of-type {\n",
       "        vertical-align: middle;\n",
       "    }\n",
       "\n",
       "    .dataframe tbody tr th {\n",
       "        vertical-align: top;\n",
       "    }\n",
       "\n",
       "    .dataframe thead th {\n",
       "        text-align: right;\n",
       "    }\n",
       "</style>\n",
       "<table border=\"1\" class=\"dataframe\">\n",
       "  <thead>\n",
       "    <tr style=\"text-align: right;\">\n",
       "      <th></th>\n",
       "      <th>input</th>\n",
       "      <th>accept</th>\n",
       "      <th>reject</th>\n",
       "      <th>context</th>\n",
       "    </tr>\n",
       "  </thead>\n",
       "  <tbody>\n",
       "    <tr>\n",
       "      <th>0</th>\n",
       "      <td>CCC수업을 듣는 학생의 성별, 나이, 지역을 알고싶어</td>\n",
       "      <td>SELECT gender, age_band, region FROM studentin...</td>\n",
       "      <td>SELECT s.gender, s.region, s.age_band FROM stu...</td>\n",
       "      <td>CREATE TABLE studentinfo (code_module varchar(...</td>\n",
       "    </tr>\n",
       "    <tr>\n",
       "      <th>1</th>\n",
       "      <td>최종 결과가 pass인 학생이 가장 많은 지역</td>\n",
       "      <td>SELECT region FROM studentinfo WHERE final_res...</td>\n",
       "      <td>SELECT region, COUNT(*) as num_of_students FRO...</td>\n",
       "      <td>CREATE TABLE studentinfo (code_module varchar(...</td>\n",
       "    </tr>\n",
       "    <tr>\n",
       "      <th>2</th>\n",
       "      <td>최종 결과가 pass인 학생의 비율이 가장 높은 지역</td>\n",
       "      <td>SELECT region FROM studentinfo GROUP BY region...</td>\n",
       "      <td>SELECT region, COUNT(*) * 100.0 / (SELECT COUN...</td>\n",
       "      <td>CREATE TABLE studentinfo (code_module varchar(...</td>\n",
       "    </tr>\n",
       "    <tr>\n",
       "      <th>3</th>\n",
       "      <td>연령대 별로 어떤 수업을 많이 듣는지 연령대, 수업코드, 학생 수로 알고싶어</td>\n",
       "      <td>SELECT age_band, code_module, COUNT(id_student...</td>\n",
       "      <td>SELECT age_band, code_module, COUNT(DISTINCT i...</td>\n",
       "      <td>CREATE TABLE studentinfo (code_module varchar(...</td>\n",
       "    </tr>\n",
       "    <tr>\n",
       "      <th>4</th>\n",
       "      <td>학생 별 수업 평가결과가 50이상인 학생 수</td>\n",
       "      <td>SELECT COUNT(DISTINCT id_student) AS num_stude...</td>\n",
       "      <td>SELECT id_student, COUNT(*) as num_assessments...</td>\n",
       "      <td>CREATE TABLE studentassessment (id_assessment ...</td>\n",
       "    </tr>\n",
       "    <tr>\n",
       "      <th>...</th>\n",
       "      <td>...</td>\n",
       "      <td>...</td>\n",
       "      <td>...</td>\n",
       "      <td>...</td>\n",
       "    </tr>\n",
       "    <tr>\n",
       "      <th>493</th>\n",
       "      <td>date가 100 이상인 학생들의 평균 성적, 활동 유형 및 이수 학점</td>\n",
       "      <td>SELECT si.id_student, AVG(sa.score) AS average...</td>\n",
       "      <td>SELECT studentassessment.id_student, studentas...</td>\n",
       "      <td>CREATE TABLE studentassessment (id_assessment ...</td>\n",
       "    </tr>\n",
       "    <tr>\n",
       "      <th>494</th>\n",
       "      <td>성별, 지역, 최고 학력, 최종 결과 및 활동 유형에 따른 학생들의 평균 점수와 활동 수</td>\n",
       "      <td>SELECT si.gender, si.region, si.highest_educat...</td>\n",
       "      <td>SELECT studentinfo.gender, studentinfo.region,...</td>\n",
       "      <td>CREATE TABLE studentassessment (id_assessment ...</td>\n",
       "    </tr>\n",
       "    <tr>\n",
       "      <th>495</th>\n",
       "      <td>\"AAA\" 모듈에서 각 평가 유형과 평가 유형별로 상위 10% 최고 학력 수준과 하...</td>\n",
       "      <td>WITH education_credits AS (SELECT sa.id_studen...</td>\n",
       "      <td>SELECT assessment_type, AVG(score) AS avg_scor...</td>\n",
       "      <td>CREATE TABLE studentassessment (id_assessment ...</td>\n",
       "    </tr>\n",
       "    <tr>\n",
       "      <th>496</th>\n",
       "      <td>\"BBB\" 모듈에서 각 평가 유형과 평가 유형별로 상위 40% 연령대와 하위 40%...</td>\n",
       "      <td>WITH age_attempts AS ( SELECT sa.id_student, a...</td>\n",
       "      <td>SELECT a.assessment_type, AVG(s.num_of_prev_at...</td>\n",
       "      <td>CREATE TABLE studentassessment (id_assessment ...</td>\n",
       "    </tr>\n",
       "    <tr>\n",
       "      <th>497</th>\n",
       "      <td>\"AAA\" 모듈에서 각 평가 유형과 평가 유형별로 상위 20%와 하위 20% 학생들...</td>\n",
       "      <td>WITH region_credits AS (SELECT sa.id_student, ...</td>\n",
       "      <td>SELECT a.assessment_type, AVG(s.score) as avg_...</td>\n",
       "      <td>CREATE TABLE studentassessment (id_assessment ...</td>\n",
       "    </tr>\n",
       "  </tbody>\n",
       "</table>\n",
       "<p>498 rows × 4 columns</p>\n",
       "</div>"
      ],
      "text/plain": [
       "                                                 input  \\\n",
       "0                       CCC수업을 듣는 학생의 성별, 나이, 지역을 알고싶어   \n",
       "1                            최종 결과가 pass인 학생이 가장 많은 지역   \n",
       "2                        최종 결과가 pass인 학생의 비율이 가장 높은 지역   \n",
       "3           연령대 별로 어떤 수업을 많이 듣는지 연령대, 수업코드, 학생 수로 알고싶어   \n",
       "4                             학생 별 수업 평가결과가 50이상인 학생 수   \n",
       "..                                                 ...   \n",
       "493            date가 100 이상인 학생들의 평균 성적, 활동 유형 및 이수 학점   \n",
       "494  성별, 지역, 최고 학력, 최종 결과 및 활동 유형에 따른 학생들의 평균 점수와 활동 수   \n",
       "495  \"AAA\" 모듈에서 각 평가 유형과 평가 유형별로 상위 10% 최고 학력 수준과 하...   \n",
       "496  \"BBB\" 모듈에서 각 평가 유형과 평가 유형별로 상위 40% 연령대와 하위 40%...   \n",
       "497  \"AAA\" 모듈에서 각 평가 유형과 평가 유형별로 상위 20%와 하위 20% 학생들...   \n",
       "\n",
       "                                                accept  \\\n",
       "0    SELECT gender, age_band, region FROM studentin...   \n",
       "1    SELECT region FROM studentinfo WHERE final_res...   \n",
       "2    SELECT region FROM studentinfo GROUP BY region...   \n",
       "3    SELECT age_band, code_module, COUNT(id_student...   \n",
       "4    SELECT COUNT(DISTINCT id_student) AS num_stude...   \n",
       "..                                                 ...   \n",
       "493  SELECT si.id_student, AVG(sa.score) AS average...   \n",
       "494  SELECT si.gender, si.region, si.highest_educat...   \n",
       "495  WITH education_credits AS (SELECT sa.id_studen...   \n",
       "496  WITH age_attempts AS ( SELECT sa.id_student, a...   \n",
       "497  WITH region_credits AS (SELECT sa.id_student, ...   \n",
       "\n",
       "                                                reject  \\\n",
       "0    SELECT s.gender, s.region, s.age_band FROM stu...   \n",
       "1    SELECT region, COUNT(*) as num_of_students FRO...   \n",
       "2    SELECT region, COUNT(*) * 100.0 / (SELECT COUN...   \n",
       "3    SELECT age_band, code_module, COUNT(DISTINCT i...   \n",
       "4    SELECT id_student, COUNT(*) as num_assessments...   \n",
       "..                                                 ...   \n",
       "493  SELECT studentassessment.id_student, studentas...   \n",
       "494  SELECT studentinfo.gender, studentinfo.region,...   \n",
       "495  SELECT assessment_type, AVG(score) AS avg_scor...   \n",
       "496  SELECT a.assessment_type, AVG(s.num_of_prev_at...   \n",
       "497  SELECT a.assessment_type, AVG(s.score) as avg_...   \n",
       "\n",
       "                                               context  \n",
       "0    CREATE TABLE studentinfo (code_module varchar(...  \n",
       "1    CREATE TABLE studentinfo (code_module varchar(...  \n",
       "2    CREATE TABLE studentinfo (code_module varchar(...  \n",
       "3    CREATE TABLE studentinfo (code_module varchar(...  \n",
       "4    CREATE TABLE studentassessment (id_assessment ...  \n",
       "..                                                 ...  \n",
       "493  CREATE TABLE studentassessment (id_assessment ...  \n",
       "494  CREATE TABLE studentassessment (id_assessment ...  \n",
       "495  CREATE TABLE studentassessment (id_assessment ...  \n",
       "496  CREATE TABLE studentassessment (id_assessment ...  \n",
       "497  CREATE TABLE studentassessment (id_assessment ...  \n",
       "\n",
       "[498 rows x 4 columns]"
      ]
     },
     "execution_count": 13,
     "metadata": {},
     "output_type": "execute_result"
    }
   ],
   "source": [
    "import pandas as pd\n",
    "input = pd.Series(evalset['input'])\n",
    "rejected = pd.Series(inference_query)\n",
    "chosen = pd.Series(evalset['output'])\n",
    "context =  pd.Series(evalset['context'])\n",
    "\n",
    "df = pd.concat([input, chosen, rejected, context], axis=1)\n",
    "df.rename(columns={ 0: 'input', 1: 'accept', 2: 'reject', 3: 'context'}, inplace = True)\n",
    "df.to_csv(\"../dpo/data/dpo_kor_data.csv\")\n",
    "df"
   ]
  },
  {
   "cell_type": "code",
   "execution_count": 9,
   "metadata": {},
   "outputs": [
    {
     "name": "stderr",
     "output_type": "stream",
     "text": [
      "Setting `pad_token_id` to `eos_token_id`:128001 for open-end generation.\n"
     ]
    }
   ],
   "source": [
    "i = 1\n",
    "inputs = tokenizer(\n",
    "[\n",
    "    prompt_1.format(\n",
    "        f\"{evalset[i]['input']}\",\n",
    "        f\"{evalset[i]['context']}\",\n",
    "        f\"{evalset[i]['input']}\",\n",
    "        \"\", \n",
    "    )\n",
    "], return_tensors = \"pt\").to(\"cuda\")\n",
    "\n",
    "outputs = model.generate(**inputs, max_new_tokens = 300, use_cache = True)\n",
    "result = tokenizer.batch_decode(outputs)\n",
    "result = result[0].split(\"[SQL]\")[-1].split(\"[/SQL]\")[0]\n",
    "\n",
    "# infer_query_result = mysql_query(db, result)\n",
    "# real_query_result = mysql_query(db, evalset['output'][i])"
   ]
  },
  {
   "cell_type": "code",
   "execution_count": 10,
   "metadata": {},
   "outputs": [
    {
     "name": "stdout",
     "output_type": "stream",
     "text": [
      "SELECT c.code_module, AVG(c.module_presentation_length) as avg_presentation_length, v.activity_type, MAX(sr.date_registration) as max_date_registration FROM courses c JOIN vle v ON c.code_module = v.code_module AND c.code_presentation = v.code_presentation JOIN studentregistration sr ON c.code_module = sr.code_module AND c.code_presentation = sr.code_presentation GROUP BY c.code_module, v.activity_type;\n"
     ]
    }
   ],
   "source": [
    "from pprint import pprint\n",
    "print(result)"
   ]
  },
  {
   "cell_type": "code",
   "execution_count": 13,
   "metadata": {},
   "outputs": [
    {
     "data": {
      "text/plain": [
       "'SELECT c.code_module, AVG(c.module_presentation_length) AS avg_presentation_length, v.activity_type, AVG(v.week_to - v.week_from) AS avg_activity_duration FROM courses c JOIN vle v ON c.code_module = v.code_module AND c.code_presentation = v.code_presentation JOIN studentRegistration r ON c.code_module = r.code_module AND c.code_presentation = r.code_presentation GROUP BY c.code_module, v.activity_type;'"
      ]
     },
     "execution_count": 13,
     "metadata": {},
     "output_type": "execute_result"
    }
   ],
   "source": [
    "evalset[i]['output']"
   ]
  },
  {
   "cell_type": "markdown",
   "metadata": {},
   "source": [
    "### test"
   ]
  },
  {
   "cell_type": "code",
   "execution_count": 8,
   "metadata": {},
   "outputs": [],
   "source": [
    "class EosTokenRewardLogitsProcessor:\n",
    "  def __init__(self, eos_token_id: int, max_length: int):\n",
    "    # `eos_token_id`와 `max_length`의 유효성을 검사하는 조건문입니다.\n",
    "    if not isinstance(eos_token_id, int) or eos_token_id < 0:\n",
    "        raise ValueError(f\"`eos_token_id` has to be a positive integer, but is {eos_token_id}\")\n",
    "\n",
    "    if not isinstance(max_length, int) or max_length < 1:\n",
    "        raise ValueError(f\"`max_length` has to be an integer bigger than 1, but is {max_length}\")\n",
    "\n",
    "    # 생성자 메서드에서 `eos_token_id`와 `max_length`를 클래스 멤버 변수로 저장합니다.\n",
    "    self.eos_token_id = eos_token_id\n",
    "    self.max_length = max_length\n",
    "\n",
    "  def __call__(self, input_ids: torch.LongTensor, scores: torch.FloatTensor) -> torch.FloatTensor:\n",
    "    cur_len = input_ids.shape[-1]\n",
    "    # 보상을 증가시키는 과정을 설명하는 주석입니다.\n",
    "    # eos_token의 보상을 문장 길이에 따라 조절합니다.\n",
    "    for cur_len in (max(0, int(self.max_length * 0.8)), self.max_length):\n",
    "      ratio = cur_len / self.max_length\n",
    "      num_tokens = scores.shape[1]  # 어휘 크기 (단어 집합의 크기)\n",
    "\n",
    "      # eos_token이 아닌 다른 토큰의 점수를 조정합니다.\n",
    "      # 선택된 토큰의 부호(sign)의 지수값을 취한 것으로, 음수 값은 0에 가깝게, 양수 값은 1에 가깝게 변환합니다.\n",
    "      scores[:, [i for i in range(num_tokens) if i != self.eos_token_id]] = \\\n",
    "        scores[:, [i for i in range(num_tokens) if i != self.eos_token_id]] * ratio * 10 * torch.exp(-torch.sign(scores[:, [i for i in range(num_tokens) if i != self.eos_token_id]]))\n",
    "\n",
    "      # eos_token의 보상을 특정 상수로 설정합니다.\n",
    "      scores[:, self.eos_token_id] = 1e2 * ratio\n",
    "\n",
    "    # 조정된 점수가 저장된 scores를 반환합니다.\n",
    "    return scores"
   ]
  },
  {
   "cell_type": "code",
   "execution_count": 10,
   "metadata": {},
   "outputs": [],
   "source": [
    "from pprint import pprint\n",
    "from googletrans import Translator\n",
    "\n",
    "translator = Translator()"
   ]
  },
  {
   "cell_type": "code",
   "execution_count": 20,
   "metadata": {},
   "outputs": [
    {
     "name": "stderr",
     "output_type": "stream",
     "text": [
      "Setting `pad_token_id` to `eos_token_id`:128001 for open-end generation.\n"
     ]
    },
    {
     "name": "stdout",
     "output_type": "stream",
     "text": [
      "Inference: SELECT AVG(studied_credits) FROM studentInfo;\n",
      "Label: SELECT AVG(studied_credits) as avg_credits\n",
      "FROM studentInfo;\n"
     ]
    },
    {
     "ename": "NameError",
     "evalue": "name 'mysql_query' is not defined",
     "output_type": "error",
     "traceback": [
      "\u001b[0;31m---------------------------------------------------------------------------\u001b[0m",
      "\u001b[0;31mNameError\u001b[0m                                 Traceback (most recent call last)",
      "Cell \u001b[0;32mIn[20], line 25\u001b[0m\n\u001b[1;32m     23\u001b[0m \u001b[39m# print(f\"Inference: {result}\\nLabel: {evalset['output'][j]}\")\u001b[39;00m\n\u001b[1;32m     24\u001b[0m \u001b[39mprint\u001b[39m(\u001b[39mf\u001b[39m\u001b[39m\"\u001b[39m\u001b[39mInference: \u001b[39m\u001b[39m{\u001b[39;00mresult\u001b[39m}\u001b[39;00m\u001b[39m\\n\u001b[39;00m\u001b[39mLabel: \u001b[39m\u001b[39m{\u001b[39;00mlabel\u001b[39m}\u001b[39;00m\u001b[39m\"\u001b[39m)\n\u001b[0;32m---> 25\u001b[0m infer_query_result \u001b[39m=\u001b[39m mysql_query(db, result)\n\u001b[1;32m     26\u001b[0m real_query_result \u001b[39m=\u001b[39m mysql_query(db, label)\n\u001b[1;32m     27\u001b[0m comp \u001b[39m=\u001b[39m \u001b[39many\u001b[39m(item \u001b[39min\u001b[39;00m real_query_result \u001b[39mfor\u001b[39;00m item \u001b[39min\u001b[39;00m infer_query_result)\n",
      "\u001b[0;31mNameError\u001b[0m: name 'mysql_query' is not defined"
     ]
    }
   ],
   "source": [
    "j = 10\n",
    "korean_input = df['질문'][j]\n",
    "label = df['답변'][j]\n",
    "question = translator.translate(korean_input, dest='en').text\n",
    "inputs = tokenizer(\n",
    "    [\n",
    "        alpaca_prompt.format(\n",
    "            f\"{question}\", # input\n",
    "            \"\", \n",
    "        )\n",
    "    ], return_tensors = \"pt\").to(\"cuda\")\n",
    "# pprint(inputs)\n",
    "outputs = model.generate(**inputs,\n",
    "                         max_new_tokens = 300,\n",
    "                        #  pad_token_id= tokenizer.eos_token_id,\n",
    "                        #  eos_token_id= tokenizer.eos_token_id,\n",
    "                         output_scores=True,\n",
    "                        #  logits_processor =[EosTokenRewardLogitsProcessor(eos_token_id=tokenizer.eos_token_id, max_length=300)],\n",
    "                         use_cache = True)\n",
    "result = tokenizer.batch_decode(outputs)\n",
    "result = result[0].split(\"### Response:\")[-1].split(\";\")[0].split(\"<|end_of_text|>\")[0].replace(\"\\n\", \"\") + \";\"\n",
    "torch.cuda.empty_cache()\n",
    "# print(f\"Inference: {result}\\nLabel: {evalset['output'][j]}\")\n",
    "print(f\"Inference: {result}\\nLabel: {label}\")\n",
    "infer_query_result = mysql_query(db, result)\n",
    "real_query_result = mysql_query(db, label)\n",
    "comp = any(item in real_query_result for item in infer_query_result)\n",
    "pritn(f\"\\ncomparison: {comp}\")"
   ]
  },
  {
   "cell_type": "code",
   "execution_count": null,
   "metadata": {},
   "outputs": [],
   "source": []
  }
 ],
 "metadata": {
  "kernelspec": {
   "display_name": "Python 3 (ipykernel)",
   "language": "python",
   "name": "python3"
  },
  "language_info": {
   "codemirror_mode": {
    "name": "ipython",
    "version": 3
   },
   "file_extension": ".py",
   "mimetype": "text/x-python",
   "name": "python",
   "nbconvert_exporter": "python",
   "pygments_lexer": "ipython3",
   "version": "3.10.14"
  }
 },
 "nbformat": 4,
 "nbformat_minor": 2
}
