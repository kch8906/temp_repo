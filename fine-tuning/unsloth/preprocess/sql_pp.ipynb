{
 "cells": [
  {
   "cell_type": "code",
   "execution_count": 5,
   "metadata": {},
   "outputs": [],
   "source": [
    "import json\n",
    "from math import ceil\n",
    "from pathlib import Path\n",
    "from datasets import load_dataset\n",
    "import pandas as pd"
   ]
  },
  {
   "cell_type": "code",
   "execution_count": 14,
   "metadata": {},
   "outputs": [
    {
     "data": {
      "text/plain": [
       "398"
      ]
     },
     "execution_count": 14,
     "metadata": {},
     "output_type": "execute_result"
    }
   ],
   "source": [
    "df = pd.read_csv(\"../dpo/data/0514university_dpo_kor_data.csv\")\n",
    "df = df.drop(['Unnamed: 0'], axis=1)\n",
    "len(df)"
   ]
  },
  {
   "cell_type": "code",
   "execution_count": 19,
   "metadata": {},
   "outputs": [
    {
     "data": {
      "text/html": [
       "<div>\n",
       "<style scoped>\n",
       "    .dataframe tbody tr th:only-of-type {\n",
       "        vertical-align: middle;\n",
       "    }\n",
       "\n",
       "    .dataframe tbody tr th {\n",
       "        vertical-align: top;\n",
       "    }\n",
       "\n",
       "    .dataframe thead th {\n",
       "        text-align: right;\n",
       "    }\n",
       "</style>\n",
       "<table border=\"1\" class=\"dataframe\">\n",
       "  <thead>\n",
       "    <tr style=\"text-align: right;\">\n",
       "      <th></th>\n",
       "      <th>input</th>\n",
       "      <th>accept</th>\n",
       "      <th>reject</th>\n",
       "      <th>context</th>\n",
       "    </tr>\n",
       "  </thead>\n",
       "  <tbody>\n",
       "    <tr>\n",
       "      <th>0</th>\n",
       "      <td>모든 모듈에 대해 각 학생이 등록한 총 모듈 수를 계산하고 학생과 등록한 총 모듈 ...</td>\n",
       "      <td>SELECT id_student, COUNT(*) AS total_modules_r...</td>\n",
       "      <td>SELECT sr.id_student, COUNT(sr.code_module) AS...</td>\n",
       "      <td>CREATE TABLE studentregistration (code_module ...</td>\n",
       "    </tr>\n",
       "    <tr>\n",
       "      <th>1</th>\n",
       "      <td>지역명과 지역별 Pass 등급을 받은 학생들의 평균 학점</td>\n",
       "      <td>SELECT region, AVG(studied_credits) AS avg_cre...</td>\n",
       "      <td>SELECT region, AVG(studied_credits) AS avg_cre...</td>\n",
       "      <td>CREATE TABLE studentinfo (code_module varchar(...</td>\n",
       "    </tr>\n",
       "    <tr>\n",
       "      <th>2</th>\n",
       "      <td>가장 많은 학점을 이수한 모듈의 학생번호 및 최종 성적을 조회</td>\n",
       "      <td>SELECT sr.id_student, si.final_result FROM stu...</td>\n",
       "      <td>SELECT sr.id_student, si.final_result FROM stu...</td>\n",
       "      <td>CREATE TABLE studentinfo (code_module varchar(...</td>\n",
       "    </tr>\n",
       "    <tr>\n",
       "      <th>3</th>\n",
       "      <td>등록한 학생들 중 VLE 자료와 상호 작용한 학생들의 연령대별 평균 학점이 80보다...</td>\n",
       "      <td>SELECT s.age_band, AVG(studied_credits) AS avg...</td>\n",
       "      <td>SELECT studentinfo.age_band, AVG(studentinfo.s...</td>\n",
       "      <td>CREATE TABLE studentinfo (code_module varchar(...</td>\n",
       "    </tr>\n",
       "    <tr>\n",
       "      <th>4</th>\n",
       "      <td>각 모듈 프레젠테이션에 등록한 학생 중 VLE 자료를 이용한 학생의 평균 상호 작용...</td>\n",
       "      <td>SELECT sr.code_module, sr.code_presentation, A...</td>\n",
       "      <td>SELECT studentregistration.code_module, studen...</td>\n",
       "      <td>CREATE TABLE studentinfo (code_module varchar(...</td>\n",
       "    </tr>\n",
       "    <tr>\n",
       "      <th>...</th>\n",
       "      <td>...</td>\n",
       "      <td>...</td>\n",
       "      <td>...</td>\n",
       "      <td>...</td>\n",
       "    </tr>\n",
       "    <tr>\n",
       "      <th>393</th>\n",
       "      <td>각 지역의 지역명과 학생들의 평균 나이를 조회</td>\n",
       "      <td>SELECT region, AVG(CAST(SUBSTRING(age_band, 1,...</td>\n",
       "      <td>SELECT region, AVG(age_band) AS avg_age FROM s...</td>\n",
       "      <td>CREATE TABLE studentinfo (code_module varchar(...</td>\n",
       "    </tr>\n",
       "    <tr>\n",
       "      <th>394</th>\n",
       "      <td>평균 클릭 수 보다 높은 클릭 수의 학생들의 평균 성적을 구해줘</td>\n",
       "      <td>SELECT AVG(studentassessment.score) AS average...</td>\n",
       "      <td>SELECT AVG(studentassessment.score) AS average...</td>\n",
       "      <td>CREATE TABLE studentassessment (id_assessment ...</td>\n",
       "    </tr>\n",
       "    <tr>\n",
       "      <th>395</th>\n",
       "      <td>평가 결과가 'Distinction'이고 모든 평가 유형에서 평균 점수가 80보다 ...</td>\n",
       "      <td>SELECT COUNT(*) AS distinction_count FROM ( SE...</td>\n",
       "      <td>SELECT COUNT(DISTINCT studentinfo.id_student) ...</td>\n",
       "      <td>CREATE TABLE studentassessment (id_assessment ...</td>\n",
       "    </tr>\n",
       "    <tr>\n",
       "      <th>396</th>\n",
       "      <td>각 모듈 프레젠테이션에서 가장 높은 점수를 받은 학생의 최종 결과를 식별하고 모듈 ...</td>\n",
       "      <td>SELECT sr.code_module, sr.code_presentation, s...</td>\n",
       "      <td>SELECT sr.code_module, sr.code_presentation, s...</td>\n",
       "      <td>CREATE TABLE studentinfo (code_module varchar(...</td>\n",
       "    </tr>\n",
       "    <tr>\n",
       "      <th>397</th>\n",
       "      <td>최종 학력이 Lower Than A Level인 학생을 연령대 별로 평균 점수 확인</td>\n",
       "      <td>SELECT studentinfo.age_band, AVG(studentassess...</td>\n",
       "      <td>SELECT studentinfo.age_band, AVG(studentassess...</td>\n",
       "      <td>CREATE TABLE studentassessment (id_assessment ...</td>\n",
       "    </tr>\n",
       "  </tbody>\n",
       "</table>\n",
       "<p>398 rows × 4 columns</p>\n",
       "</div>"
      ],
      "text/plain": [
       "                                                 input  \\\n",
       "0    모든 모듈에 대해 각 학생이 등록한 총 모듈 수를 계산하고 학생과 등록한 총 모듈 ...   \n",
       "1                      지역명과 지역별 Pass 등급을 받은 학생들의 평균 학점   \n",
       "2                   가장 많은 학점을 이수한 모듈의 학생번호 및 최종 성적을 조회   \n",
       "3    등록한 학생들 중 VLE 자료와 상호 작용한 학생들의 연령대별 평균 학점이 80보다...   \n",
       "4    각 모듈 프레젠테이션에 등록한 학생 중 VLE 자료를 이용한 학생의 평균 상호 작용...   \n",
       "..                                                 ...   \n",
       "393                          각 지역의 지역명과 학생들의 평균 나이를 조회   \n",
       "394                평균 클릭 수 보다 높은 클릭 수의 학생들의 평균 성적을 구해줘   \n",
       "395  평가 결과가 'Distinction'이고 모든 평가 유형에서 평균 점수가 80보다 ...   \n",
       "396  각 모듈 프레젠테이션에서 가장 높은 점수를 받은 학생의 최종 결과를 식별하고 모듈 ...   \n",
       "397     최종 학력이 Lower Than A Level인 학생을 연령대 별로 평균 점수 확인   \n",
       "\n",
       "                                                accept  \\\n",
       "0    SELECT id_student, COUNT(*) AS total_modules_r...   \n",
       "1    SELECT region, AVG(studied_credits) AS avg_cre...   \n",
       "2    SELECT sr.id_student, si.final_result FROM stu...   \n",
       "3    SELECT s.age_band, AVG(studied_credits) AS avg...   \n",
       "4    SELECT sr.code_module, sr.code_presentation, A...   \n",
       "..                                                 ...   \n",
       "393  SELECT region, AVG(CAST(SUBSTRING(age_band, 1,...   \n",
       "394  SELECT AVG(studentassessment.score) AS average...   \n",
       "395  SELECT COUNT(*) AS distinction_count FROM ( SE...   \n",
       "396  SELECT sr.code_module, sr.code_presentation, s...   \n",
       "397  SELECT studentinfo.age_band, AVG(studentassess...   \n",
       "\n",
       "                                                reject  \\\n",
       "0    SELECT sr.id_student, COUNT(sr.code_module) AS...   \n",
       "1    SELECT region, AVG(studied_credits) AS avg_cre...   \n",
       "2    SELECT sr.id_student, si.final_result FROM stu...   \n",
       "3    SELECT studentinfo.age_band, AVG(studentinfo.s...   \n",
       "4    SELECT studentregistration.code_module, studen...   \n",
       "..                                                 ...   \n",
       "393  SELECT region, AVG(age_band) AS avg_age FROM s...   \n",
       "394  SELECT AVG(studentassessment.score) AS average...   \n",
       "395  SELECT COUNT(DISTINCT studentinfo.id_student) ...   \n",
       "396  SELECT sr.code_module, sr.code_presentation, s...   \n",
       "397  SELECT studentinfo.age_band, AVG(studentassess...   \n",
       "\n",
       "                                               context  \n",
       "0    CREATE TABLE studentregistration (code_module ...  \n",
       "1    CREATE TABLE studentinfo (code_module varchar(...  \n",
       "2    CREATE TABLE studentinfo (code_module varchar(...  \n",
       "3    CREATE TABLE studentinfo (code_module varchar(...  \n",
       "4    CREATE TABLE studentinfo (code_module varchar(...  \n",
       "..                                                 ...  \n",
       "393  CREATE TABLE studentinfo (code_module varchar(...  \n",
       "394  CREATE TABLE studentassessment (id_assessment ...  \n",
       "395  CREATE TABLE studentassessment (id_assessment ...  \n",
       "396  CREATE TABLE studentinfo (code_module varchar(...  \n",
       "397  CREATE TABLE studentassessment (id_assessment ...  \n",
       "\n",
       "[398 rows x 4 columns]"
      ]
     },
     "execution_count": 19,
     "metadata": {},
     "output_type": "execute_result"
    }
   ],
   "source": [
    "df"
   ]
  },
  {
   "cell_type": "code",
   "execution_count": 20,
   "metadata": {},
   "outputs": [],
   "source": [
    "def dataframe_to_json(csv:str, save_path:str):\n",
    "    df = pd.read_csv(csv)\n",
    "    df = df[['input', 'accept', 'reject', 'context']]\n",
    "    \n",
    "    with open(save_path, \"w\") as f:\n",
    "        for row in df.iterrows():\n",
    "            newitem = {\n",
    "                \"input\": row[1]['input'],\n",
    "                \"accept\": row[1]['accept'],\n",
    "                \"reject\": row[1]['reject'],\n",
    "                \"context\": row[1]['context'],\n",
    "            }\n",
    "            f.write(json.dumps(newitem) + \"\\n\")\n",
    "\n",
    "def get_train_val_splits(\n",
    "    data_dir: str,\n",
    "    val_ratio: float = 0,\n",
    "    # dpo_ratio: float = 0.2,\n",
    "    seed: int = 42,\n",
    "    shuffle: bool = True,\n",
    "):\n",
    "     \n",
    "    def load_jsonl(data_dir):\n",
    "        data_path = Path(data_dir).as_posix()\n",
    "        data = load_dataset(\"json\", data_files=data_path)\n",
    "        return data\n",
    "\n",
    "    data = load_jsonl(data_dir)\n",
    "    num_samples = len(data[\"train\"])\n",
    "    val_set_size = ceil(val_ratio * num_samples)\n",
    "\n",
    "    train_data_split = data[\"train\"].train_test_split(\n",
    "        # test_size=val_set_size,\n",
    "        shuffle=shuffle, seed=seed\n",
    "    )\n",
    "    \n",
    "    return train_data_split[\"train\"].shuffle()\n",
    "    # return train_data_split[\"train\"].shuffle(), train_data_split[\"test\"].shuffle()\n",
    "    \n",
    "    # dpo_set_size = ceil(dpo_ratio * len(train_data_split['test']))\n",
    "    # dpo_data_split = train_data_split[\"test\"].train_test_split(\n",
    "    #     test_size=dpo_set_size,  shuffle=shuffle, seed=seed\n",
    "    # )\n",
    "    # return train_data_split[\"train\"].shuffle(), dpo_data_split[\"train\"].shuffle(), dpo_data_split[\"test\"].shuffle()\n",
    "\n",
    "def save_jsonl(data_dicts, out_path):\n",
    "    with open(out_path, \"w\") as fp:\n",
    "        for data_dict in data_dicts:\n",
    "            fp.write(json.dumps(data_dict) + \"\\n\")"
   ]
  },
  {
   "cell_type": "code",
   "execution_count": 21,
   "metadata": {},
   "outputs": [],
   "source": [
    "data_csv = '../dpo/data/0514university_dpo_kor_data.csv'\n",
    "json_name = '../dpo/data/university_orpo_data.jsonl'"
   ]
  },
  {
   "cell_type": "code",
   "execution_count": 22,
   "metadata": {},
   "outputs": [
    {
     "data": {
      "application/vnd.jupyter.widget-view+json": {
       "model_id": "1381527f256443cfa2be2db478d4f5f7",
       "version_major": 2,
       "version_minor": 0
      },
      "text/plain": [
       "Generating train split: 0 examples [00:00, ? examples/s]"
      ]
     },
     "metadata": {},
     "output_type": "display_data"
    }
   ],
   "source": [
    "dataframe_to_json(csv=data_csv, save_path=json_name)\n",
    "sft_train_data = get_train_val_splits(data_dir=json_name) # 추후 excel 변환\n",
    "# save_jsonl(sft_train_data, \"../dpo/data/0514university_orpo_data.jsonl\")\n",
    "# save_jsonl(test_data, \"../dpo/data/0514university_test_row.jsonl\")"
   ]
  },
  {
   "cell_type": "code",
   "execution_count": 10,
   "metadata": {},
   "outputs": [
    {
     "data": {
      "text/plain": [
       "80"
      ]
     },
     "execution_count": 10,
     "metadata": {},
     "output_type": "execute_result"
    }
   ],
   "source": [
    "len(sft_train_data)"
   ]
  },
  {
   "cell_type": "code",
   "execution_count": 11,
   "metadata": {},
   "outputs": [
    {
     "ename": "NameError",
     "evalue": "name 'test_data' is not defined",
     "output_type": "error",
     "traceback": [
      "\u001b[0;31m---------------------------------------------------------------------------\u001b[0m",
      "\u001b[0;31mNameError\u001b[0m                                 Traceback (most recent call last)",
      "Cell \u001b[0;32mIn[11], line 1\u001b[0m\n\u001b[0;32m----> 1\u001b[0m \u001b[38;5;28mlen\u001b[39m(\u001b[43mtest_data\u001b[49m)\n",
      "\u001b[0;31mNameError\u001b[0m: name 'test_data' is not defined"
     ]
    }
   ],
   "source": [
    "len(test_data)"
   ]
  },
  {
   "cell_type": "code",
   "execution_count": null,
   "metadata": {},
   "outputs": [],
   "source": []
  }
 ],
 "metadata": {
  "kernelspec": {
   "display_name": "unsloth",
   "language": "python",
   "name": "python3"
  },
  "language_info": {
   "codemirror_mode": {
    "name": "ipython",
    "version": 3
   },
   "file_extension": ".py",
   "mimetype": "text/x-python",
   "name": "python",
   "nbconvert_exporter": "python",
   "pygments_lexer": "ipython3",
   "version": "3.10.12"
  },
  "orig_nbformat": 4
 },
 "nbformat": 4,
 "nbformat_minor": 2
}
