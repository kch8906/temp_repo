{
 "cells": [
  {
   "cell_type": "code",
   "execution_count": 1,
   "metadata": {},
   "outputs": [],
   "source": [
    "import json\n",
    "from math import ceil\n",
    "from pathlib import Path\n",
    "from datasets import load_dataset\n",
    "import pandas as pd"
   ]
  },
  {
   "cell_type": "code",
   "execution_count": 2,
   "metadata": {},
   "outputs": [],
   "source": [
    "def dataframe_to_json(csv:str, save_path:str):\n",
    "    df = pd.read_csv(csv)\n",
    "    df = df[['prompt_kor', 'sql_context', 'sql']]\n",
    "    \n",
    "    with open(save_path, \"w\") as f:\n",
    "        for row in df.iterrows():\n",
    "            newitem = {\n",
    "                \"input\": row[1]['prompt_kor'],\n",
    "                \"context\": row[1]['sql_context'],\n",
    "                \"output\": row[1]['sql'],\n",
    "            }\n",
    "            f.write(json.dumps(newitem) + \"\\n\")\n",
    "\n",
    "def get_train_val_splits(\n",
    "    data_dir: str,\n",
    "    val_ratio: float = 0,\n",
    "    dpo_ratio: float = 0.2,\n",
    "    seed: int = 42,\n",
    "    shuffle: bool = True,\n",
    "):\n",
    "     \n",
    "    def load_jsonl(data_dir):\n",
    "        data_path = Path(data_dir).as_posix()\n",
    "        data = load_dataset(\"json\", data_files=data_path)\n",
    "        return data\n",
    "\n",
    "    data = load_jsonl(data_dir)\n",
    "    num_samples = len(data[\"train\"])\n",
    "    val_set_size = ceil(val_ratio * num_samples)\n",
    "\n",
    "    train_data_split = data[\"train\"].train_test_split(\n",
    "        # test_size=val_set_size,\n",
    "        shuffle=shuffle, seed=seed\n",
    "    )\n",
    "    \n",
    "    return train_data_split[\"train\"].shuffle()\n",
    "    # return train_data_split[\"train\"].shuffle(), train_data_split[\"test\"].shuffle()\n",
    "    \n",
    "    # dpo_set_size = ceil(dpo_ratio * len(train_data_split['test']))\n",
    "    # dpo_data_split = train_data_split[\"test\"].train_test_split(\n",
    "    #     test_size=dpo_set_size,  shuffle=shuffle, seed=seed\n",
    "    # )\n",
    "    # return train_data_split[\"train\"].shuffle(), dpo_data_split[\"train\"].shuffle(), dpo_data_split[\"test\"].shuffle()\n",
    "\n",
    "def save_jsonl(data_dicts, out_path):\n",
    "    with open(out_path, \"w\") as fp:\n",
    "        for data_dict in data_dicts:\n",
    "            fp.write(json.dumps(data_dict) + \"\\n\")"
   ]
  },
  {
   "cell_type": "code",
   "execution_count": 3,
   "metadata": {},
   "outputs": [],
   "source": [
    "data_csv = '../data/sql_context/sql-samples.csv'\n",
    "json_name = '../data/sql_context/sql-samples.json'"
   ]
  },
  {
   "cell_type": "code",
   "execution_count": 4,
   "metadata": {},
   "outputs": [
    {
     "data": {
      "application/vnd.jupyter.widget-view+json": {
       "model_id": "963988d276974c249b33868a0939783f",
       "version_major": 2,
       "version_minor": 0
      },
      "text/plain": [
       "Generating train split: 0 examples [00:00, ? examples/s]"
      ]
     },
     "metadata": {},
     "output_type": "display_data"
    }
   ],
   "source": [
    "dataframe_to_json(csv=data_csv, save_path=json_name)\n",
    "sft_train_data = get_train_val_splits(data_dir=json_name) # 추후 excel 변환\n",
    "save_jsonl(sft_train_data, \"../data/sql_context/sft_train.jsonl\")\n",
    "# save_jsonl(dpo_train_data, \"../data/sql_context/dpo_train.jsonl\")\n",
    "# save_jsonl(test_data, \"../data/sql_context/test.jsonl\")"
   ]
  },
  {
   "cell_type": "code",
   "execution_count": 8,
   "metadata": {},
   "outputs": [
    {
     "data": {
      "text/plain": [
       "10557"
      ]
     },
     "execution_count": 8,
     "metadata": {},
     "output_type": "execute_result"
    }
   ],
   "source": [
    "# print(f\"SFT Train: {len(sft_train_data)}\\nDPO Train: {len(dpo_train_data)}\\nTest: {len(test_data)}\")\n",
    "# print(f\"SFT Train: {len(sft_train_data)}\\nTest: {len(test_data)}\")\n",
    "len(sft_train_data)"
   ]
  },
  {
   "cell_type": "code",
   "execution_count": 14,
   "metadata": {},
   "outputs": [],
   "source": [
    "import pandas as pd\n",
    "train_excel = pd.DataFrame(raw_train_data)\n",
    "train_excel.to_excel('./data/health_train.xlsx')\n",
    "\n",
    "val_excel = pd.DataFrame(raw_val_data)\n",
    "val_excel.to_excel('./data/health_val.xlsx')"
   ]
  }
 ],
 "metadata": {
  "kernelspec": {
   "display_name": "unsloth",
   "language": "python",
   "name": "python3"
  },
  "language_info": {
   "codemirror_mode": {
    "name": "ipython",
    "version": 3
   },
   "file_extension": ".py",
   "mimetype": "text/x-python",
   "name": "python",
   "nbconvert_exporter": "python",
   "pygments_lexer": "ipython3",
   "version": "3.10.14"
  }
 },
 "nbformat": 4,
 "nbformat_minor": 2
}
